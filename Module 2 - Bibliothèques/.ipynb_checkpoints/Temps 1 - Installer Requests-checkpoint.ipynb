{
 "cells": [
  {
   "cell_type": "markdown",
   "metadata": {},
   "source": [
    "# Installer une bibliothèque"
   ]
  },
  {
   "cell_type": "markdown",
   "metadata": {},
   "source": [
    "Démarche :\n",
    "\n",
    "- identifier une bibliothèque\n",
    "- Installer une bibliothèque et vérifier sa version\n",
    "- Charger la bibliothèque\n",
    "- Lire la documentation - Importance des exemples\n",
    "- L'intégrer dans un script"
   ]
  }
 ],
 "metadata": {
  "kernelspec": {
   "display_name": "Python 3",
   "language": "python",
   "name": "python3"
  },
  "language_info": {
   "codemirror_mode": {
    "name": "ipython",
    "version": 3
   },
   "file_extension": ".py",
   "mimetype": "text/x-python",
   "name": "python",
   "nbconvert_exporter": "python",
   "pygments_lexer": "ipython3",
   "version": "3.7.7"
  }
 },
 "nbformat": 4,
 "nbformat_minor": 5
}
