{
 "cells": [
  {
   "cell_type": "markdown",
   "metadata": {},
   "source": [
    "# Exercice récupérer les données wikipédia"
   ]
  },
  {
   "cell_type": "markdown",
   "metadata": {},
   "source": [
    "Mesurer la longueur des pages wikipédia sur un sujet"
   ]
  },
  {
   "cell_type": "markdown",
   "metadata": {},
   "source": [
    "1. Comment récupérer une page avec request ?\n",
    "2. Comment récupérer un ensemble de pages ?\n",
    "3. Est-ce qu'il y a des bibliothèques plus adaptées ?"
   ]
  },
  {
   "cell_type": "code",
   "execution_count": 1,
   "metadata": {},
   "outputs": [],
   "source": [
    "import wikipedia as wp\n",
    "wp.set_lang(\"fr\")\n",
    "wp.__version__\n",
    "p = wp.page(\"Cancer\")"
   ]
  },
  {
   "cell_type": "markdown",
   "metadata": {},
   "source": [
    "Changer d'API..."
   ]
  },
  {
   "cell_type": "code",
   "execution_count": 71,
   "metadata": {},
   "outputs": [],
   "source": [
    "from mediawiki import MediaWiki\n",
    "wikipedia = MediaWiki(user_agent='pyMediaWiki-User-Agent-String')\n",
    "wikipedia.language = 'fr'\n",
    "p = wikipedia.page('CA 125')"
   ]
  },
  {
   "cell_type": "code",
   "execution_count": 72,
   "metadata": {},
   "outputs": [],
   "source": [
    "p = wikipedia.page('Liste de cancers')\n",
    "corpus = {}\n",
    "for i in p.links:\n",
    "    try:\n",
    "        t = wikipedia.page(i)\n",
    "        corpus[i] = t.links\n",
    "    except:\n",
    "        print(i)"
   ]
  }
 ],
 "metadata": {
  "kernelspec": {
   "display_name": "Python 3",
   "language": "python",
   "name": "python3"
  },
  "language_info": {
   "codemirror_mode": {
    "name": "ipython",
    "version": 3
   },
   "file_extension": ".py",
   "mimetype": "text/x-python",
   "name": "python",
   "nbconvert_exporter": "python",
   "pygments_lexer": "ipython3",
   "version": "3.7.7"
  }
 },
 "nbformat": 4,
 "nbformat_minor": 5
}
