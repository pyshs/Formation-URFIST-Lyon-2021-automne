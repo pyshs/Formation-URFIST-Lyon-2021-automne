{
 "cells": [
  {
   "cell_type": "markdown",
   "id": "4fc8fdcb",
   "metadata": {},
   "source": [
    "- Question de départ : récupérer une page internet (faire une requête url)\n",
    "- On cherche une bibliothèque (library) qui gère ces interactions\n",
    "- On identifie une bibliothèque : requests\n",
    "- On l'installe : le logiciel pip, avec pip install requests"
   ]
  },
  {
   "cell_type": "code",
   "execution_count": 2,
   "id": "c67bfbab",
   "metadata": {},
   "outputs": [
    {
     "name": "stdout",
     "output_type": "stream",
     "text": [
      "Requirement already satisfied: requests in /home/emilien/anaconda3/envs/p39/lib/python3.9/site-packages (2.26.0)\n",
      "Requirement already satisfied: certifi>=2017.4.17 in /home/emilien/anaconda3/envs/p39/lib/python3.9/site-packages (from requests) (2021.5.30)\n",
      "Requirement already satisfied: idna<4,>=2.5 in /home/emilien/anaconda3/envs/p39/lib/python3.9/site-packages (from requests) (3.2)\n",
      "Requirement already satisfied: charset-normalizer~=2.0.0 in /home/emilien/anaconda3/envs/p39/lib/python3.9/site-packages (from requests) (2.0.7)\n",
      "Requirement already satisfied: urllib3<1.27,>=1.21.1 in /home/emilien/anaconda3/envs/p39/lib/python3.9/site-packages (from requests) (1.26.7)\n",
      "Note: you may need to restart the kernel to use updated packages.\n"
     ]
    }
   ],
   "source": [
    "pip install requests"
   ]
  },
  {
   "cell_type": "code",
   "execution_count": 13,
   "id": "5caa3717",
   "metadata": {},
   "outputs": [
    {
     "name": "stdout",
     "output_type": "stream",
     "text": [
      "False\n"
     ]
    }
   ],
   "source": [
    "import requests\n",
    "\n",
    "# chercher la page\n",
    "r = requests.get('https://lemonde.fr')\n",
    "\n",
    "# stocker le texte dans une variable\n",
    "texte_page_monde = r.text\n",
    "\n",
    "# chercher un mot clé\n",
    "print(\"Raoult\" in texte_page_monde)\n",
    "\n",
    "# écrire sur le disque dur\n",
    "with open(\"lemonde12102021.html\",\"w\") as f:\n",
    "    f.write(texte_page_monde)"
   ]
  },
  {
   "cell_type": "markdown",
   "id": "7a84cc2b",
   "metadata": {},
   "source": [
    "Faire plusieurs adresses"
   ]
  },
  {
   "cell_type": "code",
   "execution_count": null,
   "id": "91c40709",
   "metadata": {},
   "outputs": [],
   "source": [
    "import requests\n",
    "\n",
    "liste_urls = ['https://lemonde.fr',\n",
    "              \"https://www.monde-diplomatique.fr/\",\n",
    "              \"https://www.liberation.fr/\"]\n",
    "\n",
    "for url in liste_urls:\n",
    "    print(url)\n",
    "    r = requests.get(url)\n",
    "\n",
    "    # stocker le texte dans une variable\n",
    "    texte_page_monde = r.text\n",
    "\n",
    "    # chercher un mot clé\n",
    "    print(\"Raoult\" in texte_page_monde)\n",
    "\n",
    "    \n",
    "    # écrire sur le disque dur\n",
    "    with open(url+\".html\",\"w\") as f:\n",
    "        f.write(texte_page_monde)"
   ]
  },
  {
   "cell_type": "code",
   "execution_count": 23,
   "id": "5ac504a4",
   "metadata": {},
   "outputs": [
    {
     "name": "stdout",
     "output_type": "stream",
     "text": [
      "https://lemonde.fr\n",
      "False\n",
      "https://www.monde-diplomatique.fr/\n",
      "False\n",
      "https://www.liberation.fr/\n",
      "False\n"
     ]
    }
   ],
   "source": [
    "import requests\n",
    "\n",
    "liste_urls = {\"Le Monde\":'https://lemonde.fr',\n",
    "              \"Monde diplomatique\":\"https://www.monde-diplomatique.fr/\",\n",
    "              \"Libération\":\"https://www.liberation.fr/\"}\n",
    "\n",
    "for nom in liste_urls:\n",
    "    # chercher la page\n",
    "    url = liste_urls[nom]\n",
    "    print(url)\n",
    "    r = requests.get(url)\n",
    "\n",
    "    # stocker le texte dans une variable\n",
    "    texte_page_monde = r.text\n",
    "\n",
    "    # chercher un mot clé\n",
    "    print(\"Raoult\" in texte_page_monde)\n",
    "\n",
    "    \n",
    "    # écrire sur le disque dur\n",
    "    with open(nom+\".html\",\"w\") as f:\n",
    "        f.write(texte_page_monde)"
   ]
  },
  {
   "cell_type": "code",
   "execution_count": 20,
   "id": "ffd7c630",
   "metadata": {},
   "outputs": [
    {
     "data": {
      "text/plain": [
       "'liberation.fr.html'"
      ]
     },
     "execution_count": 20,
     "metadata": {},
     "output_type": "execute_result"
    }
   ],
   "source": [
    "nom_fichier+\".html\""
   ]
  },
  {
   "cell_type": "code",
   "execution_count": 22,
   "id": "bf3fe079",
   "metadata": {},
   "outputs": [
    {
     "name": "stdout",
     "output_type": "stream",
     "text": [
      "Le Monde\n",
      "Monde diplomatique\n",
      "Libération\n"
     ]
    }
   ],
   "source": [
    "liste_urls = {\"Le Monde\":'https://lemonde.fr',\n",
    "              \"Monde diplomatique\":\"https://www.monde-diplomatique.fr/\",\n",
    "              \"Libération\":\"https://www.liberation.fr/\"}\n",
    "\n",
    "for url in liste_urls:\n",
    "    print(url)"
   ]
  }
 ],
 "metadata": {
  "kernelspec": {
   "display_name": "Python 3 (ipykernel)",
   "language": "python",
   "name": "python3"
  },
  "language_info": {
   "codemirror_mode": {
    "name": "ipython",
    "version": 3
   },
   "file_extension": ".py",
   "mimetype": "text/x-python",
   "name": "python",
   "nbconvert_exporter": "python",
   "pygments_lexer": "ipython3",
   "version": "3.9.7"
  }
 },
 "nbformat": 4,
 "nbformat_minor": 5
}
