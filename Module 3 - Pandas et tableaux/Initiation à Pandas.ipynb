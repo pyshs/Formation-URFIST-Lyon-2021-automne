{
 "cells": [
  {
   "cell_type": "markdown",
   "id": "36291abe",
   "metadata": {},
   "source": [
    "Importer la bibliothèque"
   ]
  },
  {
   "cell_type": "code",
   "execution_count": 2,
   "id": "708eca60",
   "metadata": {},
   "outputs": [],
   "source": [
    "import pandas as pd"
   ]
  },
  {
   "cell_type": "markdown",
   "id": "ec55fc69",
   "metadata": {},
   "source": [
    "Trouver le fichier à charger"
   ]
  },
  {
   "cell_type": "code",
   "execution_count": 4,
   "id": "40bd63a7",
   "metadata": {},
   "outputs": [
    {
     "name": "stdout",
     "output_type": "stream",
     "text": [
      "/home/emilien/Dropbox/Python pour les SHS/Formations/2021-10 URFIST Lyon/Module 3 - Pandas et tableaux 1h30\n"
     ]
    }
   ],
   "source": [
    "cd ."
   ]
  },
  {
   "cell_type": "code",
   "execution_count": 9,
   "id": "fe818cb4",
   "metadata": {},
   "outputs": [],
   "source": [
    "data = pd.read_excel(\"./Data/Corpus.xlsx\")"
   ]
  },
  {
   "cell_type": "code",
   "execution_count": 10,
   "id": "00b2666b",
   "metadata": {},
   "outputs": [
    {
     "data": {
      "text/plain": [
       "pandas.core.frame.DataFrame"
      ]
     },
     "execution_count": 10,
     "metadata": {},
     "output_type": "execute_result"
    }
   ],
   "source": [
    "type(data)"
   ]
  },
  {
   "cell_type": "code",
   "execution_count": 12,
   "id": "006cd02a",
   "metadata": {},
   "outputs": [
    {
     "data": {
      "text/plain": [
       "(206, 10)"
      ]
     },
     "execution_count": 12,
     "metadata": {},
     "output_type": "execute_result"
    }
   ],
   "source": [
    "data.shape"
   ]
  },
  {
   "cell_type": "code",
   "execution_count": null,
   "id": "bf68d8d5",
   "metadata": {},
   "outputs": [],
   "source": [
    "data = data.drop([\"Unnamed: 6\",\"Unnamed: 7\",\"Unnamed: 8\",\"Unnamed: 9\"],axis=1)"
   ]
  },
  {
   "cell_type": "code",
   "execution_count": 22,
   "id": "b13042a6",
   "metadata": {},
   "outputs": [
    {
     "data": {
      "text/plain": [
       "Index(['Date_reco', 'Date', 'Titre', 'Journal', 'Contenu', 'Auteur'], dtype='object')"
      ]
     },
     "execution_count": 22,
     "metadata": {},
     "output_type": "execute_result"
    }
   ],
   "source": [
    "data.columns"
   ]
  },
  {
   "cell_type": "code",
   "execution_count": 30,
   "id": "9cfc81b6",
   "metadata": {},
   "outputs": [
    {
     "data": {
      "text/plain": [
       "10      Au Sénégal, où il est né, il n'est pas «le c...\n",
       "11      Neuf mois après le début de la pandémie de C...\n",
       "12      LAISSONS LES MÉDECINS PRESCRIRE DÉFENDRE LA ...\n",
       "13      Efficacité des corticoïdes, mais seulement d...\n",
       "14      Sorti le 11 novembre, le film documentaire f...\n",
       "15      Marseille correspondant - C'est la fin de la...\n",
       "16                                           Marseille \n",
       "17      «I l n'y a pas de solution magique, seulemen...\n",
       "18      Le 22 octobre, l'Agence du médicament s'est ...\n",
       "19      Je vais vous raconter une chose que je n'ai ...\n",
       "20      L'   équivalent d'un 11 Septembre, voire de ...\n",
       "Name: Contenu, dtype: object"
      ]
     },
     "execution_count": 30,
     "metadata": {},
     "output_type": "execute_result"
    }
   ],
   "source": [
    "data.loc[10:20,\"Contenu\"]"
   ]
  },
  {
   "cell_type": "code",
   "execution_count": 33,
   "id": "6b433ce6",
   "metadata": {},
   "outputs": [
    {
     "data": {
      "text/plain": [
       "0        Le 16 janvier, pour sauver son père de l'asp...\n",
       "1        Le Covid-19 a révélé l'extraordinaire potent...\n",
       "2        Le traitement médiatique de l'épidémie de Co...\n",
       "3        Par Nicolas Berrod, Ludwig Gallet et Paméla ...\n",
       "4        Deux personnes masquées, avec des logos de l...\n",
       "                             ...                        \n",
       "201      Depuis 2011 et l'ouverture de la plateforme ...\n",
       "202      Par Marcelo Wesfreid   C'était il y a pile u...\n",
       "203      Infectiologue de renom, mais guère connu du ...\n",
       "204      Elsa Mari et Florence Méréo   L'innovation  ...\n",
       "205       CONTINUER à injecter le vaccin AstraZeneca ...\n",
       "Name: Contenu, Length: 206, dtype: object"
      ]
     },
     "execution_count": 33,
     "metadata": {},
     "output_type": "execute_result"
    }
   ],
   "source": [
    "data[\"Contenu\"]"
   ]
  },
  {
   "cell_type": "markdown",
   "id": "ed9f51b1",
   "metadata": {},
   "source": [
    "Filtrer le tableau"
   ]
  },
  {
   "cell_type": "code",
   "execution_count": 40,
   "id": "7dabd7ed",
   "metadata": {
    "scrolled": false
   },
   "outputs": [
    {
     "data": {
      "text/plain": [
       "47"
      ]
     },
     "execution_count": 40,
     "metadata": {},
     "output_type": "execute_result"
    }
   ],
   "source": [
    "filtre = data[\"Journal\"].str.contains(\"Le Monde\")\n",
    "len(data[filtre])"
   ]
  },
  {
   "cell_type": "code",
   "execution_count": 41,
   "id": "8865c62b",
   "metadata": {},
   "outputs": [
    {
     "data": {
      "text/plain": [
       "array([' Le Figaro, no. 23910   ', ' Le Monde   ', \" l'Humanité   \",\n",
       "       \" Aujourd'hui en France  Edition Principale \", ' Libération   ',\n",
       "       ' La Tribune (France), no. 7213   ',\n",
       "       ' La Tribune (France), no. 7013   ',\n",
       "       ' La Tribune (France), no. 7033   ', ' La Croix, no. 41844   ',\n",
       "       ' Les Echos, no. 23468   ', ' Les Echos, no. 23326   ',\n",
       "       ' Le Figaro, no. 23710   ', ' Le Figaro, no. 23714   ',\n",
       "       ' La Tribune (France), no. 7046   ',\n",
       "       ' La Correspondance économique   ', ' Le Figaro, no. 23692   ',\n",
       "       ' La Tribune (France), no. 7192   ', ' Les Echos, no. 23356   ',\n",
       "       ' La Croix, no. 42039   ', ' Le Figaro, no. 23694   ',\n",
       "       ' Les Echos, no. 23551   ', ' La Croix, no. 42012   ',\n",
       "       ' Le Figaro, no. 23780   ', ' La Tribune (France), no. 7004   ',\n",
       "       ' Le Figaro, no. 23680   ', ' Le Figaro, no. 23693   ',\n",
       "       ' Le Figaro, no. 23746   ', ' Le Figaro, no. 23744   ',\n",
       "       ' La Tribune (France), no. 7044   ', ' Le Figaro, no. 23712   ',\n",
       "       ' La Tribune (France), no. 7051   ', ' La Croix, no. 41889   ',\n",
       "       ' Les Echos, no. 23299   ', ' Le Figaro, no. 23751   ',\n",
       "       ' La Croix, no. 41866   ', ' La Croix, no. 41859   ',\n",
       "       ' Les Echos, no. 23342   ', ' La Croix, no. 41886   ',\n",
       "       ' Les Echos, no. 23415   ', ' Le Figaro, no. 23776   ',\n",
       "       ' Le Figaro, no. 23927   ', ' Les Echos, no. 23459   ',\n",
       "       ' La Croix, no. 41920   ', ' La Croix, no. 41996   ',\n",
       "       ' Les Echos, no. 23428   ', ' Les Echos, no. 23391   ',\n",
       "       ' Les Echos, no. 23440   ', ' La Croix, no. 42023   ',\n",
       "       ' Le Figaro, no. 23885   ', ' Le Figaro, no. 23932   ',\n",
       "       ' Le Figaro, no. 23909   ', ' Le Figaro, no. 23880   ',\n",
       "       ' Le Figaro, no. 23955   ', ' Le Figaro, no. 23857   ',\n",
       "       ' Le Figaro, no. 23922   ', ' Le Figaro, no. 23949   ',\n",
       "       ' Le Figaro, no. 23929   ', ' La Tribune (France), no. 7075   ',\n",
       "       ' Le Figaro, no. 23777   ', ' Le Figaro, no. 23813   ',\n",
       "       ' Le Figaro, no. 23841   ', ' Le Figaro, no. 23832   ',\n",
       "       ' Le Figaro, no. 23758   ', ' Le Figaro, no. 23831   ',\n",
       "       ' Le Figaro, no. 23848   ', ' La Croix, no. 41907   ',\n",
       "       ' Le Figaro, no. 23837   '], dtype=object)"
      ]
     },
     "execution_count": 41,
     "metadata": {},
     "output_type": "execute_result"
    }
   ],
   "source": [
    "data[\"Journal\"].unique()"
   ]
  },
  {
   "cell_type": "code",
   "execution_count": 42,
   "id": "ee110acb",
   "metadata": {},
   "outputs": [
    {
     "data": {
      "text/plain": [
       " Le Monde                                      47\n",
       " Libération                                    39\n",
       " Aujourd'hui en France  Edition Principale     34\n",
       " l'Humanité                                    14\n",
       " La Croix, no. 41920                            3\n",
       "                                               ..\n",
       " La Croix, no. 41889                            1\n",
       " Les Echos, no. 23299                           1\n",
       " La Croix, no. 41866                            1\n",
       " La Croix, no. 41859                            1\n",
       " Le Figaro, no. 23837                           1\n",
       "Name: Journal, Length: 67, dtype: int64"
      ]
     },
     "execution_count": 42,
     "metadata": {},
     "output_type": "execute_result"
    }
   ],
   "source": [
    "data[\"Journal\"].value_counts()"
   ]
  },
  {
   "cell_type": "code",
   "execution_count": 48,
   "id": "6e1b80d5",
   "metadata": {},
   "outputs": [
    {
     "data": {
      "text/plain": [
       "50"
      ]
     },
     "execution_count": 48,
     "metadata": {},
     "output_type": "execute_result"
    }
   ],
   "source": [
    "filtre = data[\"Date_reco\"]>\"2021-06-01\"\n",
    "ss_corpus = data[filtre]\n",
    "len(ss_corpus)"
   ]
  },
  {
   "cell_type": "markdown",
   "id": "0f23e06d",
   "metadata": {},
   "source": [
    "Créer une colonne"
   ]
  },
  {
   "cell_type": "code",
   "execution_count": 49,
   "id": "d56272af",
   "metadata": {},
   "outputs": [],
   "source": [
    "data[\"Test\"] = 1"
   ]
  },
  {
   "cell_type": "code",
   "execution_count": 53,
   "id": "44290f80",
   "metadata": {},
   "outputs": [],
   "source": [
    "data[\"presence_Raoult\"] = data[\"Contenu\"].str.contains(\"Raoult\")"
   ]
  },
  {
   "cell_type": "markdown",
   "id": "7cc1904a",
   "metadata": {},
   "source": [
    "Compter nombre de lettes"
   ]
  },
  {
   "cell_type": "code",
   "execution_count": 56,
   "id": "00e81080",
   "metadata": {},
   "outputs": [],
   "source": [
    "data[\"nb_lettres\"] = data[\"Contenu\"].apply(len)"
   ]
  },
  {
   "cell_type": "markdown",
   "id": "b5f817f7",
   "metadata": {},
   "source": [
    "Compter le nombre de mots :\n",
    "\n",
    "- définir une fonction qui compte pour 1 texte\n",
    "- l'appliquer à l'ensemble du tableau"
   ]
  },
  {
   "cell_type": "code",
   "execution_count": 65,
   "id": "881ac664",
   "metadata": {},
   "outputs": [],
   "source": [
    "# fonction\n",
    "def nbre_mots(texte):\n",
    "    texte = texte.replace(\",\",\" \").replace(\"'\",\" \")\n",
    "    return len(texte.split(\" \"))"
   ]
  },
  {
   "cell_type": "code",
   "execution_count": 60,
   "id": "56d574ef",
   "metadata": {},
   "outputs": [
    {
     "data": {
      "text/plain": [
       "4"
      ]
     },
     "execution_count": 60,
     "metadata": {},
     "output_type": "execute_result"
    }
   ],
   "source": [
    "nbre_mots(\"Test de la fonction\")"
   ]
  },
  {
   "cell_type": "code",
   "execution_count": 67,
   "id": "deb0f181",
   "metadata": {},
   "outputs": [],
   "source": [
    "data[\"nbre_mots\"] = data[\"Contenu\"].apply(nbre_mots)"
   ]
  },
  {
   "cell_type": "code",
   "execution_count": 71,
   "id": "7a45ecdf",
   "metadata": {},
   "outputs": [
    {
     "data": {
      "text/plain": [
       "1083.6796116504854"
      ]
     },
     "execution_count": 71,
     "metadata": {},
     "output_type": "execute_result"
    }
   ],
   "source": [
    "data[\"nbre_mots\"].mean()"
   ]
  },
  {
   "cell_type": "code",
   "execution_count": 72,
   "id": "43f4a6fc",
   "metadata": {},
   "outputs": [
    {
     "data": {
      "text/plain": [
       "5096.0"
      ]
     },
     "execution_count": 72,
     "metadata": {},
     "output_type": "execute_result"
    }
   ],
   "source": [
    "data[\"nb_lettres\"].median()"
   ]
  },
  {
   "cell_type": "code",
   "execution_count": null,
   "id": "c01ecdce",
   "metadata": {},
   "outputs": [],
   "source": []
  },
  {
   "cell_type": "code",
   "execution_count": null,
   "id": "18f5052f",
   "metadata": {},
   "outputs": [],
   "source": []
  },
  {
   "cell_type": "code",
   "execution_count": 86,
   "id": "2f083822",
   "metadata": {},
   "outputs": [
    {
     "data": {
      "text/plain": [
       "Le Figaro    37\n",
       "La Croix     13\n",
       "Name: Journal, dtype: int64"
      ]
     },
     "execution_count": 86,
     "metadata": {},
     "output_type": "execute_result"
    }
   ],
   "source": [
    "#Recoder le journal\n",
    "\n",
    "def reco_journal(texte):\n",
    "    if \"La Croix\" in texte:\n",
    "        return \"La Croix\"\n",
    "    if \"Le Figaro\" in texte:\n",
    "        return \"Le Figaro\"\n",
    "    if \"Le Monde\" in texte:\n",
    "        return \"Le Monde\"\n",
    "    if \"Humanité\" in texte:\n",
    "        return \"L'Humanité\"\n",
    "    if \"Aujourd'hui en France\":\n",
    "        return \"Aujourd'hui en France\"\n",
    "    return texte\n",
    "    \n",
    "data[\"Journal_reco\"] = data[\"Journal\"].apply(reco_journal).value_counts()"
   ]
  },
  {
   "cell_type": "markdown",
   "id": "d0244eb8",
   "metadata": {},
   "source": [
    "Exercice : calculer le nombre moyen de mots par journal"
   ]
  },
  {
   "cell_type": "code",
   "execution_count": 91,
   "id": "0cdee0d5",
   "metadata": {},
   "outputs": [
    {
     "data": {
      "text/plain": [
       "1484.276595744681"
      ]
     },
     "execution_count": 91,
     "metadata": {},
     "output_type": "execute_result"
    }
   ],
   "source": [
    "filtre = data[\"Journal_reco\"]==\"Le Monde\"\n",
    "data[filtre][\"nbre_mots\"].mean()"
   ]
  },
  {
   "cell_type": "code",
   "execution_count": 93,
   "id": "6011c23b",
   "metadata": {},
   "outputs": [
    {
     "data": {
      "text/plain": [
       "630.5384615384615"
      ]
     },
     "execution_count": 93,
     "metadata": {},
     "output_type": "execute_result"
    }
   ],
   "source": [
    "filtre = data[\"Journal_reco\"]==\"La Croix\"\n",
    "data[filtre][\"nbre_mots\"].mean()"
   ]
  },
  {
   "cell_type": "code",
   "execution_count": 95,
   "id": "5faa2aec",
   "metadata": {},
   "outputs": [
    {
     "data": {
      "text/plain": [
       "1484.276595744681"
      ]
     },
     "execution_count": 95,
     "metadata": {},
     "output_type": "execute_result"
    }
   ],
   "source": [
    "filtre = data[\"Journal_reco\"]==\"Le Monde\"\n",
    "data[filtre][\"nbre_mots\"].mean()"
   ]
  },
  {
   "cell_type": "code",
   "execution_count": 96,
   "id": "512d2949",
   "metadata": {},
   "outputs": [
    {
     "data": {
      "text/plain": [
       "array(['Le Figaro', 'Le Monde', \"L'Humanité\", \"Aujourd'hui en France\",\n",
       "       'La Croix'], dtype=object)"
      ]
     },
     "execution_count": 96,
     "metadata": {},
     "output_type": "execute_result"
    }
   ],
   "source": [
    "data[\"Journal_reco\"].unique()"
   ]
  },
  {
   "cell_type": "code",
   "execution_count": 94,
   "id": "29f16f5a",
   "metadata": {},
   "outputs": [
    {
     "name": "stdout",
     "output_type": "stream",
     "text": [
      "Le Figaro 1069.8648648648648\n",
      "Le Monde 1484.276595744681\n",
      "L'Humanité 893.3571428571429\n",
      "Aujourd'hui en France 980.9263157894737\n",
      "La Croix 630.5384615384615\n"
     ]
    }
   ],
   "source": [
    "for j in data[\"Journal_reco\"].unique():\n",
    "    filtre = data[\"Journal_reco\"]==j\n",
    "    print(j,data[filtre][\"nbre_mots\"].mean())"
   ]
  },
  {
   "cell_type": "code",
   "execution_count": 98,
   "id": "876499ff",
   "metadata": {},
   "outputs": [
    {
     "data": {
      "text/html": [
       "<div>\n",
       "<style scoped>\n",
       "    .dataframe tbody tr th:only-of-type {\n",
       "        vertical-align: middle;\n",
       "    }\n",
       "\n",
       "    .dataframe tbody tr th {\n",
       "        vertical-align: top;\n",
       "    }\n",
       "\n",
       "    .dataframe thead th {\n",
       "        text-align: right;\n",
       "    }\n",
       "</style>\n",
       "<table border=\"1\" class=\"dataframe\">\n",
       "  <thead>\n",
       "    <tr style=\"text-align: right;\">\n",
       "      <th></th>\n",
       "      <th>mean</th>\n",
       "      <th>median</th>\n",
       "      <th>std</th>\n",
       "    </tr>\n",
       "    <tr>\n",
       "      <th>Journal_reco</th>\n",
       "      <th></th>\n",
       "      <th></th>\n",
       "      <th></th>\n",
       "    </tr>\n",
       "  </thead>\n",
       "  <tbody>\n",
       "    <tr>\n",
       "      <th>Aujourd'hui en France</th>\n",
       "      <td>980.926316</td>\n",
       "      <td>862.0</td>\n",
       "      <td>710.044264</td>\n",
       "    </tr>\n",
       "    <tr>\n",
       "      <th>L'Humanité</th>\n",
       "      <td>893.357143</td>\n",
       "      <td>711.0</td>\n",
       "      <td>763.929881</td>\n",
       "    </tr>\n",
       "    <tr>\n",
       "      <th>La Croix</th>\n",
       "      <td>630.538462</td>\n",
       "      <td>512.0</td>\n",
       "      <td>445.085500</td>\n",
       "    </tr>\n",
       "    <tr>\n",
       "      <th>Le Figaro</th>\n",
       "      <td>1069.864865</td>\n",
       "      <td>1067.0</td>\n",
       "      <td>508.463435</td>\n",
       "    </tr>\n",
       "    <tr>\n",
       "      <th>Le Monde</th>\n",
       "      <td>1484.276596</td>\n",
       "      <td>1262.0</td>\n",
       "      <td>883.085813</td>\n",
       "    </tr>\n",
       "  </tbody>\n",
       "</table>\n",
       "</div>"
      ],
      "text/plain": [
       "                              mean  median         std\n",
       "Journal_reco                                          \n",
       "Aujourd'hui en France   980.926316   862.0  710.044264\n",
       "L'Humanité              893.357143   711.0  763.929881\n",
       "La Croix                630.538462   512.0  445.085500\n",
       "Le Figaro              1069.864865  1067.0  508.463435\n",
       "Le Monde               1484.276596  1262.0  883.085813"
      ]
     },
     "execution_count": 98,
     "metadata": {},
     "output_type": "execute_result"
    }
   ],
   "source": [
    "data.groupby(\"Journal_reco\")[\"nbre_mots\"].agg([\"mean\",\"median\",\"std\"])"
   ]
  },
  {
   "cell_type": "markdown",
   "id": "903a51e5",
   "metadata": {},
   "source": [
    "Faire un tableau croisé"
   ]
  },
  {
   "cell_type": "code",
   "execution_count": 111,
   "id": "e4bff73b",
   "metadata": {},
   "outputs": [
    {
     "name": "stderr",
     "output_type": "stream",
     "text": [
      "/tmp/ipykernel_71308/3489938647.py:1: FutureWarning: As the xlwt package is no longer maintained, the xlwt engine will be removed in a future version of pandas. This is the only engine in pandas that supports writing in the xls format. Install openpyxl and write to an xlsx file instead. You can set the option io.excel.xls.writer to 'xlwt' to silence this warning. While this option is deprecated and will also raise a warning, it can be globally set and the warning suppressed.\n",
      "  pd.crosstab(data[\"Journal_reco\"],data[\"presence_Raoult\"]).to_excel(\"nomdufichier.xls\")\n"
     ]
    }
   ],
   "source": [
    "pd.crosstab(data[\"Journal_reco\"],data[\"presence_Raoult\"]).to_excel(\"nomdufichier.xls\")"
   ]
  },
  {
   "cell_type": "markdown",
   "id": "f200abb6",
   "metadata": {},
   "source": [
    "Exploration visuelle"
   ]
  },
  {
   "cell_type": "code",
   "execution_count": 105,
   "id": "4ded7174",
   "metadata": {},
   "outputs": [
    {
     "data": {
      "image/png": "[encoded data removed]",
      "text/plain": [
       "<Figure size 432x288 with 1 Axes>"
      ]
     },
     "metadata": {
      "needs_background": "light"
     },
     "output_type": "display_data"
    }
   ],
   "source": [
    "import matplotlib.pyplot as plt\n",
    "\n",
    "data[\"nbre_mots\"].plot(kind=\"hist\",bins=20,color=\"orange\",\n",
    "                       title=\"Histogramme du nombre de mots\")\n",
    "\n",
    "plt.savefig(\"figure.png\",dpi=200)"
   ]
  },
  {
   "cell_type": "markdown",
   "id": "f9ad8bb4",
   "metadata": {},
   "source": [
    "Faire des statistiques\n",
    "- https://pingouin-stats.org/\n",
    "- pyshs"
   ]
  },
  {
   "cell_type": "code",
   "execution_count": 114,
   "id": "b963ba56",
   "metadata": {},
   "outputs": [],
   "source": [
    "import pyshs"
   ]
  },
  {
   "cell_type": "code",
   "execution_count": 117,
   "id": "c3ccde93",
   "metadata": {},
   "outputs": [
    {
     "data": {
      "text/html": [
       "<div>\n",
       "<style scoped>\n",
       "    .dataframe tbody tr th:only-of-type {\n",
       "        vertical-align: middle;\n",
       "    }\n",
       "\n",
       "    .dataframe tbody tr th {\n",
       "        vertical-align: top;\n",
       "    }\n",
       "\n",
       "    .dataframe thead th {\n",
       "        text-align: right;\n",
       "    }\n",
       "</style>\n",
       "<table border=\"1\" class=\"dataframe\">\n",
       "  <thead>\n",
       "    <tr style=\"text-align: right;\">\n",
       "      <th></th>\n",
       "      <th>Effectif</th>\n",
       "      <th>Pourcentage (%)</th>\n",
       "    </tr>\n",
       "  </thead>\n",
       "  <tbody>\n",
       "    <tr>\n",
       "      <th>Aujourd'hui en France</th>\n",
       "      <td>95.0</td>\n",
       "      <td>46.1</td>\n",
       "    </tr>\n",
       "    <tr>\n",
       "      <th>L'Humanité</th>\n",
       "      <td>14.0</td>\n",
       "      <td>6.8</td>\n",
       "    </tr>\n",
       "    <tr>\n",
       "      <th>La Croix</th>\n",
       "      <td>13.0</td>\n",
       "      <td>6.3</td>\n",
       "    </tr>\n",
       "    <tr>\n",
       "      <th>Le Figaro</th>\n",
       "      <td>37.0</td>\n",
       "      <td>18.0</td>\n",
       "    </tr>\n",
       "    <tr>\n",
       "      <th>Le Monde</th>\n",
       "      <td>47.0</td>\n",
       "      <td>22.8</td>\n",
       "    </tr>\n",
       "    <tr>\n",
       "      <th>Total</th>\n",
       "      <td>206.0</td>\n",
       "      <td>100.0</td>\n",
       "    </tr>\n",
       "  </tbody>\n",
       "</table>\n",
       "</div>"
      ],
      "text/plain": [
       "                       Effectif  Pourcentage (%)\n",
       "Aujourd'hui en France      95.0             46.1\n",
       "L'Humanité                 14.0              6.8\n",
       "La Croix                   13.0              6.3\n",
       "Le Figaro                  37.0             18.0\n",
       "Le Monde                   47.0             22.8\n",
       "Total                     206.0            100.0"
      ]
     },
     "execution_count": 117,
     "metadata": {},
     "output_type": "execute_result"
    }
   ],
   "source": [
    "pyshs.tri_a_plat(data,\"Journal_reco\")"
   ]
  }
 ],
 "metadata": {
  "kernelspec": {
   "display_name": "Python 3 (ipykernel)",
   "language": "python",
   "name": "python3"
  },
  "language_info": {
   "codemirror_mode": {
    "name": "ipython",
    "version": 3
   },
   "file_extension": ".py",
   "mimetype": "text/x-python",
   "name": "python",
   "nbconvert_exporter": "python",
   "pygments_lexer": "ipython3",
   "version": "3.9.7"
  }
 },
 "nbformat": 4,
 "nbformat_minor": 5
}
