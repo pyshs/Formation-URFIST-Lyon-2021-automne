{
 "cells": [
  {
   "cell_type": "markdown",
   "metadata": {},
   "source": [
    "# Temps 3 - Statistiques et visualisations"
   ]
  },
  {
   "cell_type": "markdown",
   "metadata": {},
   "source": [
    "Séance pratique plutôt orientée sciences sociales. La fin aborde des usages plus techniques, non abordés pendant le cours (manque de temps)"
   ]
  },
  {
   "cell_type": "markdown",
   "metadata": {},
   "source": [
    "## Objectif \n",
    "\n",
    "- Charger les données et les nettoyer\n",
    "- Recoder et sélectionner\n",
    "- Décrire les données et les visualiser\n",
    "- Utiliser des modèles plus avancées"
   ]
  },
  {
   "cell_type": "code",
   "execution_count": null,
   "metadata": {},
   "outputs": [],
   "source": []
  },
  {
   "cell_type": "markdown",
   "metadata": {},
   "source": [
    "<p style=\"margin-bottom:10cm;\"></p>"
   ]
  },
  {
   "cell_type": "markdown",
   "metadata": {},
   "source": [
    "### Charger des données SPSS de l'enquête 2011 avec pyreadstat"
   ]
  },
  {
   "cell_type": "code",
   "execution_count": 1,
   "metadata": {},
   "outputs": [
    {
     "data": {
      "text/plain": [
       "(1027, 188)"
      ]
     },
     "execution_count": 1,
     "metadata": {},
     "output_type": "execute_result"
    }
   ],
   "source": [
    "import pyreadstat\n",
    "data2011, meta2011 = pyreadstat.read_sav('./Data/fr.cdsp.ddi.sav')\n",
    "data2011.shape"
   ]
  },
  {
   "cell_type": "markdown",
   "metadata": {},
   "source": [
    "### Définir des fonctions utilitaires"
   ]
  },
  {
   "cell_type": "markdown",
   "metadata": {},
   "source": [
    "def question(v,meta):\n",
    "    return meta2011.column_names_to_labels[v]\n",
    "\n",
    "def modalites(v,meta):\n",
    "    return meta.value_labels[meta.variable_to_label[v]]"
   ]
  },
  {
   "cell_type": "markdown",
   "metadata": {},
   "source": [
    "### Sélectionner les variables d'intérêt\n",
    "\n",
    "Toute analyse il faut identifier les variables d'intérêt. Cela passe par la lecture des données.\n",
    "\n",
    "Variables dépendantes :\n",
    "\n",
    "- 'q2': 'Intérêt pour la science'\n",
    "- 'q15': \"Apport de la science à l'Homme\"\n",
    "\n",
    "Variables indépendantes :\n",
    "\n",
    "-  'rs1': 'Sexe du répondant'\n",
    "-  'rs2': 'Age du répondant'\n",
    "-  'rs6': 'PCS du répondant',\n",
    "-  'pcsip': 'Profession du répondant',\n",
    "- 'rs14': 'Revenus mensuels du foyer du répondant',\n",
    "-  'degre': 'Degré de connaissance scientifique (recodage en 4 postes du questionnaire auto-administré)',\n",
    "-  'rs16a': 'Diplôme le plus élevé du répondant',\n",
    "- 'rs15': 'Intérêt pour la politique',\n",
    "- 'rs16': \"Auto-positionnement sur l'échelle gauche/droite\",\n",
    "- 'rs11a': 'Proximité avec un parti politique',\n",
    "- 'rs17': 'Religion du répondant',\n",
    "-  'nivet6': \"Niveau d'études du répondant (recodage en 6 postes)\",\n",
    "-  'q1_1': 'Confiance dans : La justice',\n",
    " 'q1_2': 'Confiance dans : Les médias',\n",
    " 'q1_3': 'Confiance dans : La police',\n",
    " 'q1_4': \"Confiance dans : L'Assemblée nationale\",\n",
    " 'q1_5': \"Confiance dans : L'administration\",\n",
    " 'q1_6': 'Confiance dans : La science',\n",
    " 'q1_7': 'Confiance dans : Les grandes entreprises',\n",
    " 'q1_8': 'Confiance dans : Les associations',\n",
    " 'q1_9': 'Confiance dans : Le Gouvernement',\n",
    " 'q1_10': 'Confiance dans : Les agences gouvernementales',\n",
    "\n",
    "\n",
    "\n"
   ]
  },
  {
   "cell_type": "markdown",
   "metadata": {},
   "source": [
    "### Regarder les données"
   ]
  },
  {
   "cell_type": "markdown",
   "metadata": {},
   "source": [
    "- modifs : apply / replace\n",
    "- tri à plat\n",
    "- visualisation"
   ]
  },
  {
   "cell_type": "markdown",
   "metadata": {},
   "source": [
    "## Recodage des variables\n",
    "\n",
    "data2011[\"interetscience\"] = data2011['q2'].replace({1:\"Oui\",2:\"Oui\",3:\"Non\",4:\"Non\"})\n",
    "data2011[\"apportscience\"] = data2011['q15'].replace(modalites('q15',meta2011))\n",
    "data2011[\"politique\"] = data2011[\"rs16\"].replace({1.0: 'Extrême gauche',\n",
    " 2.0: 'Gauche',\n",
    " 3.0: 'Gauche',\n",
    " 4.0: '.Centre',\n",
    " 5.0: 'Droite',\n",
    " 6.0: 'Droite',\n",
    " 7.0: 'Extrême droite',\n",
    " 888.0: 'Ne sait pas'})\n",
    "\n",
    "data2011[\"sexe\"] = data2011[\"rs1\"].replace(modalites(\"rs1\",meta2011))\n",
    "data2011[\"age_reco\"] = pd.cut(data2011['rs2'],[0,35,45,55,65,100],\n",
    "                labels = [\"[18-35[\",\"[35-45[\",\"[45-55[\",\"[55-65[\",\"[65-75]\"])\n",
    "data2011[\"pcs\"] = data2011[\"pcsip\"].replace(modalites(\"pcsip\",meta2011))\n",
    "data2011[\"etude\"] = data2011[\"nivet6\"].replace(modalites(\"nivet6\",meta2011))\n",
    "data2011[\"politique\"] = data2011[\"rs16\"].replace({1.0: 'Extrême gauche',\n",
    " 2.0: 'Gauche',\n",
    " 3.0: 'Gauche',\n",
    " 4.0: '.Centre',\n",
    " 5.0: 'Droite',\n",
    " 6.0: 'Droite',\n",
    " 7.0: 'Extrême droite',\n",
    " 888.0: 'Ne sait pas'})\n",
    "\n",
    "data2011[\"confiance\"] = data2011[[\"q1_{}\".format(i) for i in range(1,11)]]\\\n",
    "                         .replace({1:1,2:1,3:0,4:0}).fillna(0).sum(axis=1)/10\n",
    "data2011[\"confiance_quar\"] = pd.qcut(data2011[\"confiance\"],[0,0.25,0.5,0.75,1],[\"Q1\",\"Q2\",\"Q3\",\"Q4\"])"
   ]
  },
  {
   "cell_type": "markdown",
   "metadata": {},
   "source": [
    "### L'analyse bivariée\n",
    "\n",
    "- crosstab\n",
    "- corrélation avec statsmodel\n",
    "- test du chi 2 avec scipy.stats.chi2_contingency"
   ]
  },
  {
   "cell_type": "markdown",
   "metadata": {},
   "source": [
    "## Intégrer les variables dans un modèle\n",
    "\n",
    "Il existe une diversité de modèles qui permettent d'évaluer les effets conjugués de différentes variables dans la détermination d'une variable dépendante\n",
    "\n",
    "Chaque modèle renvoie à une littérature.\n",
    "\n",
    "Dans notre cas ici, nous avons comme souvent en SHS des variables catégorielles, on va utiliser une régresssion logistique de la bibliothèque statsmodel"
   ]
  },
  {
   "cell_type": "markdown",
   "metadata": {},
   "source": [
    "#### Construire le modèle"
   ]
  },
  {
   "cell_type": "code",
   "execution_count": 118,
   "metadata": {},
   "outputs": [],
   "source": [
    "# Dichotomiser la variable\n",
    "data2011[\"apportsciencepositif\"] = data2011[\"apportscience\"].apply(lambda x : 1 if x == \"Plus de bien que de mal\" else 0)"
   ]
  },
  {
   "cell_type": "code",
   "execution_count": 122,
   "metadata": {},
   "outputs": [],
   "source": [
    "# Chargement de la bibliothèque\n",
    "import statsmodels.api as sm\n",
    "import statsmodels.formula.api as smf"
   ]
  },
  {
   "cell_type": "code",
   "execution_count": 205,
   "metadata": {},
   "outputs": [],
   "source": [
    "# Définition de la formule\n",
    "f = \"apportsciencepositif ~ sexe + age_reco + confiance_quar + etude + politique\"\n",
    "\n",
    "# Création du modèle \n",
    "modele = smf.glm(formula=f, data=data2011, family=sm.families.Binomial(), freq_weights=data2011[\"poids1\"])\n",
    "regression = modele.fit()"
   ]
  },
  {
   "cell_type": "markdown",
   "metadata": {},
   "source": [
    "#### Calculer une information manquante"
   ]
  },
  {
   "cell_type": "code",
   "execution_count": 214,
   "metadata": {},
   "outputs": [
    {
     "data": {
      "text/plain": [
       "0.1"
      ]
     },
     "execution_count": 214,
     "metadata": {},
     "output_type": "execute_result"
    }
   ],
   "source": [
    "def pseudoR2(mod):\n",
    "    R = 1-mod.deviance/mod.null_deviance\n",
    "    return round(R,2)\n",
    "\n",
    "pseudoR2(regression)"
   ]
  },
  {
   "cell_type": "markdown",
   "metadata": {},
   "source": [
    "#### Faire un graphique add hoc"
   ]
  },
  {
   "cell_type": "code",
   "execution_count": 271,
   "metadata": {},
   "outputs": [
    {
     "data": {
      "text/plain": [
       "<matplotlib.lines.Line2D at 0x138729590>"
      ]
     },
     "execution_count": 271,
     "metadata": {},
     "output_type": "execute_result"
    },
    {
     "data": {
      "image/png": "[encoded data removed]",
      "text/plain": [
       "<Figure size 576x360 with 1 Axes>"
      ]
     },
     "metadata": {
      "needs_background": "light"
     },
     "output_type": "display_data"
    }
   ],
   "source": [
    "# Construction des données\n",
    "u = regression.summary2()\n",
    "u = np.exp(u.tables[1][[\"Coef.\",\"[0.025\",\"0.975]\"]])\n",
    "u[\"low\"] = u[\"Coef.\"]-u[\"[0.025\"]\n",
    "u[\"up\"] = u[\"0.975]\"]-u[\"Coef.\"]\n",
    "\n",
    "# Création du graphique\n",
    "fig,ax = plt.subplots(figsize=(8,5))\n",
    "ax.errorbar( u[\"Coef.\"],u.index, xerr=u[[\"low\",\"up\"]].values.T,fmt='o', color='black',\n",
    "             ecolor='gray', elinewidth=5, capsize=10)\n",
    "plt.axvline(1)"
   ]
  }
 ],
 "metadata": {
  "kernelspec": {
   "display_name": "Python 3",
   "language": "python",
   "name": "python3"
  },
  "language_info": {
   "codemirror_mode": {
    "name": "ipython",
    "version": 3
   },
   "file_extension": ".py",
   "mimetype": "text/x-python",
   "name": "python",
   "nbconvert_exporter": "python",
   "pygments_lexer": "ipython3",
   "version": "3.7.7"
  }
 },
 "nbformat": 4,
 "nbformat_minor": 4
}
