{
 "cells": [
  {
   "cell_type": "markdown",
   "metadata": {},
   "source": [
    "# Utiliser Pandas\n",
    "\n",
    "Un monde  à part entière. Comme pour Excel, des personnes se spécialisent dans Pandas"
   ]
  },
  {
   "cell_type": "markdown",
   "metadata": {},
   "source": [
    "## Importer Pandas"
   ]
  },
  {
   "cell_type": "code",
   "execution_count": 2,
   "metadata": {},
   "outputs": [],
   "source": [
    "import pandas as pd"
   ]
  },
  {
   "cell_type": "markdown",
   "metadata": {},
   "source": [
    "<p style=\"margin-bottom:15cm;\"></p>"
   ]
  },
  {
   "cell_type": "markdown",
   "metadata": {},
   "source": [
    "## Localiser un fichier\n",
    "\n",
    "Se déplacer dans l'ordinateur pour ouvrir un fichier"
   ]
  },
  {
   "cell_type": "code",
   "execution_count": 1,
   "metadata": {},
   "outputs": [
    {
     "name": "stdout",
     "output_type": "stream",
     "text": [
      "/Users/emilien/Dropbox/Python pour les SHS/Formations/2021 URFIS Lyon/Module 2 - Statistiques\n"
     ]
    }
   ],
   "source": [
    "cd ."
   ]
  },
  {
   "cell_type": "code",
   "execution_count": 2,
   "metadata": {},
   "outputs": [
    {
     "name": "stdout",
     "output_type": "stream",
     "text": [
      "\u001b[34mData\u001b[m\u001b[m/\r\n",
      "Temps 0 - Exemple - Chloroquine - mis en forme.ipynb\r\n",
      "Temps 1 - Installer et charger des bibliothèques.ipynb\r\n",
      "Temps 2 - Manipuler des données avec Pandas.ipynb\r\n",
      "Temps 3 - Visualisations avec Matplotlib.ipynb\r\n",
      "Temps 4 - Statistiques avancées.ipynb\r\n",
      "Temps 5 - Exercice.ipynb\r\n"
     ]
    }
   ],
   "source": [
    "ls ."
   ]
  },
  {
   "cell_type": "markdown",
   "metadata": {},
   "source": [
    "## Charger un fichier"
   ]
  },
  {
   "cell_type": "code",
   "execution_count": 5,
   "metadata": {},
   "outputs": [],
   "source": [
    "corpus = pd.read_csv(\"./Data/Corpus.csv\")"
   ]
  },
  {
   "cell_type": "code",
   "execution_count": 6,
   "metadata": {},
   "outputs": [
    {
     "data": {
      "text/html": [
       "<div>\n",
       "<style scoped>\n",
       "    .dataframe tbody tr th:only-of-type {\n",
       "        vertical-align: middle;\n",
       "    }\n",
       "\n",
       "    .dataframe tbody tr th {\n",
       "        vertical-align: top;\n",
       "    }\n",
       "\n",
       "    .dataframe thead th {\n",
       "        text-align: right;\n",
       "    }\n",
       "</style>\n",
       "<table border=\"1\" class=\"dataframe\">\n",
       "  <thead>\n",
       "    <tr style=\"text-align: right;\">\n",
       "      <th></th>\n",
       "      <th>Date_reco</th>\n",
       "      <th>Date</th>\n",
       "      <th>Titre</th>\n",
       "      <th>Journal</th>\n",
       "      <th>Contenu</th>\n",
       "      <th>Auteur</th>\n",
       "    </tr>\n",
       "  </thead>\n",
       "  <tbody>\n",
       "    <tr>\n",
       "      <th>0</th>\n",
       "      <td>2021-07-06</td>\n",
       "      <td>Le Figaro,  mardi 6 juillet 2021 1674 mots, p...</td>\n",
       "      <td>Bolsonaro sur le banc des accusés après les r...</td>\n",
       "      <td>Le Figaro, no. 23910</td>\n",
       "      <td>Le 16 janvier, pour sauver son père de l'asp...</td>\n",
       "      <td>Jeantet, Diane</td>\n",
       "    </tr>\n",
       "    <tr>\n",
       "      <th>1</th>\n",
       "      <td>2020-12-08</td>\n",
       "      <td>Analyses,  mardi 8 décembre 2020 1140 mots, p...</td>\n",
       "      <td>Gilbert Deray Bilan d'étape du virus, un an a...</td>\n",
       "      <td>Le Monde</td>\n",
       "      <td>Le Covid-19 a révélé l'extraordinaire potent...</td>\n",
       "      <td>Gilbert Deray</td>\n",
       "    </tr>\n",
       "    <tr>\n",
       "      <th>2</th>\n",
       "      <td>2020-10-15</td>\n",
       "      <td>jeudi 15 octobre 2020 2310 mots, p. 12</td>\n",
       "      <td>Information et pandémie Les médias traitent-i...</td>\n",
       "      <td>l'Humanité</td>\n",
       "      <td>Le traitement médiatique de l'épidémie de Co...</td>\n",
       "      <td>NaN</td>\n",
       "    </tr>\n",
       "    <tr>\n",
       "      <th>3</th>\n",
       "      <td>2020-11-14</td>\n",
       "      <td>_Société,  samedi 14 novembre 2020 455 mots, ...</td>\n",
       "      <td>Par Nicolas Berrod, Ludwig Gallet et Paméla</td>\n",
       "      <td>Aujourd'hui en France  Edition Principale</td>\n",
       "      <td>Par Nicolas Berrod, Ludwig Gallet et Paméla ...</td>\n",
       "      <td>N.B., L.G. et P.R.</td>\n",
       "    </tr>\n",
       "    <tr>\n",
       "      <th>4</th>\n",
       "      <td>2020-11-13</td>\n",
       "      <td>vendredi 13 novembre 2020 2161 mots, p. 2,3,4</td>\n",
       "      <td>Covid-19 : le docu «Hold-up» bat des records ...</td>\n",
       "      <td>Libération</td>\n",
       "      <td>Deux personnes masquées, avec des logos de l...</td>\n",
       "      <td>Par ROBIN ANDRACA et VINCENT COQUAZ</td>\n",
       "    </tr>\n",
       "    <tr>\n",
       "      <th>...</th>\n",
       "      <td>...</td>\n",
       "      <td>...</td>\n",
       "      <td>...</td>\n",
       "      <td>...</td>\n",
       "      <td>...</td>\n",
       "      <td>...</td>\n",
       "    </tr>\n",
       "    <tr>\n",
       "      <th>201</th>\n",
       "      <td>2021-01-12</td>\n",
       "      <td>Evénement,  mardi 12 janvier 2021 129 mots, p...</td>\n",
       "      <td>Repères Vaccins sous surveillance. Dix ans de...</td>\n",
       "      <td>La Croix, no. 41907</td>\n",
       "      <td>Depuis 2011 et l'ouverture de la plateforme ...</td>\n",
       "      <td>NaN</td>\n",
       "    </tr>\n",
       "    <tr>\n",
       "      <th>202</th>\n",
       "      <td>2021-02-15</td>\n",
       "      <td>_Politique,  lundi 15 février 2021 639 mots, ...</td>\n",
       "      <td>Le médecin-chef de la macronie Nommé au gouve...</td>\n",
       "      <td>Aujourd'hui en France  Edition Principale</td>\n",
       "      <td>Par Marcelo Wesfreid   C'était il y a pile u...</td>\n",
       "      <td>NaN</td>\n",
       "    </tr>\n",
       "    <tr>\n",
       "      <th>203</th>\n",
       "      <td>2021-03-12</td>\n",
       "      <td>vendredi 12 mars 2021 544 mots, p. 14</td>\n",
       "      <td>Attaqué de partout, Didier Raoult s'en fout</td>\n",
       "      <td>Libération</td>\n",
       "      <td>Infectiologue de renom, mais guère connu du ...</td>\n",
       "      <td>Samantha Rouchard Correspondance à Marseille</td>\n",
       "    </tr>\n",
       "    <tr>\n",
       "      <th>204</th>\n",
       "      <td>2021-02-05</td>\n",
       "      <td>_Société,  vendredi 5 février 2021 400 mots, ...</td>\n",
       "      <td>Elsa Mari et Florence Méréo L'innovation Les</td>\n",
       "      <td>Aujourd'hui en France  Edition Principale</td>\n",
       "      <td>Elsa Mari et Florence Méréo   L'innovation  ...</td>\n",
       "      <td>E.M. et Fl.M.</td>\n",
       "    </tr>\n",
       "    <tr>\n",
       "      <th>205</th>\n",
       "      <td>2021-04-10</td>\n",
       "      <td>Le Figaro,  samedi 10 avril 2021 889 mots, p. 9</td>\n",
       "      <td>Ces professionnels de santé qui bravent l'avi...</td>\n",
       "      <td>Le Figaro, no. 23837</td>\n",
       "      <td>CONTINUER à injecter le vaccin AstraZeneca ...</td>\n",
       "      <td>Roy, Soline</td>\n",
       "    </tr>\n",
       "  </tbody>\n",
       "</table>\n",
       "<p>206 rows × 6 columns</p>\n",
       "</div>"
      ],
      "text/plain": [
       "      Date_reco                                               Date  \\\n",
       "0    2021-07-06   Le Figaro,  mardi 6 juillet 2021 1674 mots, p...   \n",
       "1    2020-12-08   Analyses,  mardi 8 décembre 2020 1140 mots, p...   \n",
       "2    2020-10-15            jeudi 15 octobre 2020 2310 mots, p. 12    \n",
       "3    2020-11-14   _Société,  samedi 14 novembre 2020 455 mots, ...   \n",
       "4    2020-11-13     vendredi 13 novembre 2020 2161 mots, p. 2,3,4    \n",
       "..          ...                                                ...   \n",
       "201  2021-01-12   Evénement,  mardi 12 janvier 2021 129 mots, p...   \n",
       "202  2021-02-15   _Politique,  lundi 15 février 2021 639 mots, ...   \n",
       "203  2021-03-12             vendredi 12 mars 2021 544 mots, p. 14    \n",
       "204  2021-02-05   _Société,  vendredi 5 février 2021 400 mots, ...   \n",
       "205  2021-04-10   Le Figaro,  samedi 10 avril 2021 889 mots, p. 9    \n",
       "\n",
       "                                                 Titre  \\\n",
       "0     Bolsonaro sur le banc des accusés après les r...   \n",
       "1     Gilbert Deray Bilan d'étape du virus, un an a...   \n",
       "2     Information et pandémie Les médias traitent-i...   \n",
       "3         Par Nicolas Berrod, Ludwig Gallet et Paméla    \n",
       "4     Covid-19 : le docu «Hold-up» bat des records ...   \n",
       "..                                                 ...   \n",
       "201   Repères Vaccins sous surveillance. Dix ans de...   \n",
       "202   Le médecin-chef de la macronie Nommé au gouve...   \n",
       "203       Attaqué de partout, Didier Raoult s'en fout    \n",
       "204      Elsa Mari et Florence Méréo L'innovation Les    \n",
       "205   Ces professionnels de santé qui bravent l'avi...   \n",
       "\n",
       "                                         Journal  \\\n",
       "0                        Le Figaro, no. 23910      \n",
       "1                                    Le Monde      \n",
       "2                                  l'Humanité      \n",
       "3     Aujourd'hui en France  Edition Principale    \n",
       "4                                  Libération      \n",
       "..                                           ...   \n",
       "201                       La Croix, no. 41907      \n",
       "202   Aujourd'hui en France  Edition Principale    \n",
       "203                                Libération      \n",
       "204   Aujourd'hui en France  Edition Principale    \n",
       "205                      Le Figaro, no. 23837      \n",
       "\n",
       "                                               Contenu  \\\n",
       "0      Le 16 janvier, pour sauver son père de l'asp...   \n",
       "1      Le Covid-19 a révélé l'extraordinaire potent...   \n",
       "2      Le traitement médiatique de l'épidémie de Co...   \n",
       "3      Par Nicolas Berrod, Ludwig Gallet et Paméla ...   \n",
       "4      Deux personnes masquées, avec des logos de l...   \n",
       "..                                                 ...   \n",
       "201    Depuis 2011 et l'ouverture de la plateforme ...   \n",
       "202    Par Marcelo Wesfreid   C'était il y a pile u...   \n",
       "203    Infectiologue de renom, mais guère connu du ...   \n",
       "204    Elsa Mari et Florence Méréo   L'innovation  ...   \n",
       "205     CONTINUER à injecter le vaccin AstraZeneca ...   \n",
       "\n",
       "                                           Auteur  \n",
       "0                                  Jeantet, Diane  \n",
       "1                                   Gilbert Deray  \n",
       "2                                             NaN  \n",
       "3                              N.B., L.G. et P.R.  \n",
       "4             Par ROBIN ANDRACA et VINCENT COQUAZ  \n",
       "..                                            ...  \n",
       "201                                           NaN  \n",
       "202                                           NaN  \n",
       "203  Samantha Rouchard Correspondance à Marseille  \n",
       "204                                 E.M. et Fl.M.  \n",
       "205                                   Roy, Soline  \n",
       "\n",
       "[206 rows x 6 columns]"
      ]
     },
     "execution_count": 6,
     "metadata": {},
     "output_type": "execute_result"
    }
   ],
   "source": [
    "corpus"
   ]
  },
  {
   "cell_type": "markdown",
   "metadata": {},
   "source": [
    "- Accéder à un élément : colonne, ligne\n",
    "- Sélectionner : loc, iloc\n",
    "- Filtrer : conditions\n",
    "- Transformer : columns, index\n",
    "- Différentes fonctions : isnull, notnull, str.contains, etc."
   ]
  },
  {
   "cell_type": "markdown",
   "metadata": {},
   "source": [
    "## Manipuler les données\n",
    "\n",
    "- créer une nouvelle colonne (présence absence d'un mot)\n",
    "- appliquer une fonction sur toute la colonne\n",
    "- recoder le journal (les étapes d'un traitement)\n",
    "- stastiques de base"
   ]
  },
  {
   "cell_type": "markdown",
   "metadata": {},
   "source": [
    "## Construire ses outils\n",
    "\n",
    "Recoder une date"
   ]
  },
  {
   "cell_type": "code",
   "execution_count": 8,
   "metadata": {},
   "outputs": [],
   "source": [
    "import regex as re\n",
    "import datetime\n",
    "\n",
    "def reco_date(x):\n",
    "    #conversion lettres/chiffres\n",
    "    mois = {\"janvier\":\"01\",\"février\":\"02\",\"mars\":\"03\",\n",
    "            \"avril\":\"04\",\"mai\":\"05\",\"juin\":\"06\",\"juillet\":\"07\",\n",
    "            \"août\":\"08\",\"septembre\":\"09\",\"octobre\":\"10\",\"novembre\":\"11\",\"décembre\":\"12\"}\n",
    "    \n",
    "    #Trouver le motif\n",
    "    t = re.findall(\"\\w+ \\w+ [0-9]{4}\",x)\n",
    "    \n",
    "    #Si pas trouvé, renvoyer rien\n",
    "    if len(t) <1:\n",
    "        return None\n",
    "    \n",
    "    #Sinon prendre le premier élément\n",
    "    t = t[0]\n",
    "    \n",
    "    #Remplacer le mois pour une mise en forme\n",
    "    for i in mois:\n",
    "        if i in t:\n",
    "            t = t.replace(i,\"/%s/\"%mois[i]).replace(\" \",\"\")\n",
    "\n",
    "    #Mettre sous la forme d'un objet datetime \n",
    "    t = datetime.datetime.strptime(t,\"%d/%m/%Y\")\n",
    "            \n",
    "    return t"
   ]
  },
  {
   "cell_type": "markdown",
   "metadata": {},
   "source": [
    "Sauvegarder"
   ]
  }
 ],
 "metadata": {
  "kernelspec": {
   "display_name": "Python 3",
   "language": "python",
   "name": "python3"
  },
  "language_info": {
   "codemirror_mode": {
    "name": "ipython",
    "version": 3
   },
   "file_extension": ".py",
   "mimetype": "text/x-python",
   "name": "python",
   "nbconvert_exporter": "python",
   "pygments_lexer": "ipython3",
   "version": "3.7.7"
  }
 },
 "nbformat": 4,
 "nbformat_minor": 4
}
