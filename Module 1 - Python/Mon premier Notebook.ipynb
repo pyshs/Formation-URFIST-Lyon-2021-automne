{
 "cells": [
  {
   "cell_type": "markdown",
   "id": "84246101",
   "metadata": {},
   "source": [
    "# Exécution du code"
   ]
  },
  {
   "cell_type": "code",
   "execution_count": 4,
   "id": "f0a6d2d0",
   "metadata": {},
   "outputs": [
    {
     "name": "stdout",
     "output_type": "stream",
     "text": [
      " Didier Raoult, le postmodernisme en étendard \n",
      " Crise sanitaire Le professeur Raoult persiste dans ses certitudes Visé par une plainte, le directeur de l'institut Méditerranée Infection prescrit toujours l'hydroxychloroquine \n",
      "Proportion d'articles contenant le terme dans le titre : 20.0 %\n"
     ]
    }
   ],
   "source": [
    "# -*- coding: utf-8 -*-\n",
    "\n",
    "__author__ = \"Émilien Schultz\" # définir une variable str\n",
    "nombre_articles = 0 # définir une variable int\n",
    "motcle = \"Raoult\" # définir une variable str\n",
    "titres = [' Bolsonaro sur le banc des accusés après les ravages du Covid à Manaus ',\n",
    " \" Gilbert Deray Bilan d'étape du virus, un an après La découverte de vaccins en un temps record est un incontestable succès médico-scientifique, mais nos échecs économiques et sociétaux dans la lutte contre le Covid-19 sont évidents, souligne le médecin \",\n",
    " \" Information et pandémie Les médias traitent-ils bien les sciences ? \",\n",
    " ' Par Nicolas Berrod, Ludwig Gallet et Paméla ',\n",
    " ' Covid-19 : le docu «Hold-up» bat des records de défiance ',\n",
    " \" A Marseille, la facture n'est pas passée \",\n",
    " ' Pass sanitaire|« On y mettra fin à la minute où nous le pourrons » ',\n",
    " ' Les covidosceptiques veulent faire avaler leurs pilules ',\n",
    " ' Didier Raoult, le postmodernisme en étendard ',\n",
    " \" Crise sanitaire Le professeur Raoult persiste dans ses certitudes Visé par une plainte, le directeur de l'institut Méditerranée Infection prescrit toujours l'hydroxychloroquine \"]\n",
    "nombre_total_articles = len(titres) #définir variable\n",
    "\n",
    "if nombre_total_articles > 0: # vérifier que la liste n'est pas vide\n",
    "    for i in titres: # pour chaque élément de la liste titres\n",
    "        if motcle in i: # vérifie si le mot clés est présent dans le titre\n",
    "            print(i) # si oui, afficher le titre\n",
    "            nombre_articles = nombre_articles + 1 #et incrémenter (augmenter de 1) le compteur\n",
    "else: # cas où la liste est vide\n",
    "    print(\"La liste est vide\")\n",
    "    \n",
    "proportion = 100*nombre_articles/nombre_total_articles #calcul d'un pourcentage\n",
    "print(\"Proportion d'articles contenant le terme dans le titre : {} %\".format(round(proportion,1)))"
   ]
  },
  {
   "cell_type": "markdown",
   "id": "b35fe9ad",
   "metadata": {},
   "source": [
    "# Décrire le script"
   ]
  },
  {
   "cell_type": "markdown",
   "id": "06b18e76",
   "metadata": {},
   "source": [
    "Les commentaires"
   ]
  },
  {
   "cell_type": "code",
   "execution_count": 6,
   "id": "e0c041da",
   "metadata": {},
   "outputs": [],
   "source": [
    "# __author__ = \"Émilien Schultz\""
   ]
  },
  {
   "cell_type": "markdown",
   "id": "b6cf2919",
   "metadata": {},
   "source": [
    "Création de variables"
   ]
  },
  {
   "cell_type": "code",
   "execution_count": 10,
   "id": "349f58df",
   "metadata": {},
   "outputs": [],
   "source": [
    "__author__ = \"Émilien Schultz\"\n",
    "AuTeUr = \"Émilien Schultz\"\n",
    "nombre_articles = 0"
   ]
  },
  {
   "cell_type": "code",
   "execution_count": 9,
   "id": "b16b6496",
   "metadata": {},
   "outputs": [
    {
     "data": {
      "text/plain": [
       "0"
      ]
     },
     "execution_count": 9,
     "metadata": {},
     "output_type": "execute_result"
    }
   ],
   "source": [
    "nombre_articles"
   ]
  },
  {
   "cell_type": "code",
   "execution_count": 13,
   "id": "ccf66682",
   "metadata": {},
   "outputs": [
    {
     "data": {
      "text/plain": [
       "'Émilien Schultz'"
      ]
     },
     "execution_count": 13,
     "metadata": {},
     "output_type": "execute_result"
    }
   ],
   "source": [
    "AuTeUr"
   ]
  },
  {
   "cell_type": "code",
   "execution_count": 14,
   "id": "73e59277",
   "metadata": {},
   "outputs": [
    {
     "data": {
      "text/plain": [
       "False"
      ]
     },
     "execution_count": 14,
     "metadata": {},
     "output_type": "execute_result"
    }
   ],
   "source": [
    "nombre_articles == 1"
   ]
  },
  {
   "cell_type": "markdown",
   "id": "1d7b129d",
   "metadata": {},
   "source": [
    "Type des variables -> chaque type a des propriétés différentes"
   ]
  },
  {
   "cell_type": "code",
   "execution_count": 15,
   "id": "b9a6b85a",
   "metadata": {},
   "outputs": [
    {
     "data": {
      "text/plain": [
       "int"
      ]
     },
     "execution_count": 15,
     "metadata": {},
     "output_type": "execute_result"
    }
   ],
   "source": [
    "type(nombre_articles)"
   ]
  },
  {
   "cell_type": "code",
   "execution_count": 17,
   "id": "2d016471",
   "metadata": {},
   "outputs": [
    {
     "data": {
      "text/plain": [
       "int"
      ]
     },
     "execution_count": 17,
     "metadata": {},
     "output_type": "execute_result"
    }
   ],
   "source": [
    "type(__author__)\n",
    "type(nombre_articles)"
   ]
  },
  {
   "cell_type": "markdown",
   "id": "4da99b57",
   "metadata": {},
   "source": [
    "Afficher une valeur"
   ]
  },
  {
   "cell_type": "code",
   "execution_count": 18,
   "id": "4dc12c53",
   "metadata": {},
   "outputs": [
    {
     "name": "stdout",
     "output_type": "stream",
     "text": [
      "<class 'str'>\n",
      "<class 'int'>\n"
     ]
    }
   ],
   "source": [
    "print(type(__author__))\n",
    "print(type(nombre_articles))"
   ]
  },
  {
   "cell_type": "markdown",
   "id": "ff8ebc3c",
   "metadata": {},
   "source": [
    "Une ligne par instruction"
   ]
  },
  {
   "cell_type": "code",
   "execution_count": 20,
   "id": "112bdfec",
   "metadata": {},
   "outputs": [],
   "source": [
    "nombre_articles = 100000"
   ]
  },
  {
   "cell_type": "code",
   "execution_count": 21,
   "id": "1720e750",
   "metadata": {},
   "outputs": [
    {
     "name": "stdout",
     "output_type": "stream",
     "text": [
      "100000\n"
     ]
    }
   ],
   "source": [
    "print(nombre_articles)"
   ]
  },
  {
   "cell_type": "code",
   "execution_count": 22,
   "id": "6f43244f",
   "metadata": {},
   "outputs": [],
   "source": [
    "nombre_articles = \"100000\""
   ]
  },
  {
   "cell_type": "code",
   "execution_count": 23,
   "id": "36932f8b",
   "metadata": {},
   "outputs": [
    {
     "data": {
      "text/plain": [
       "str"
      ]
     },
     "execution_count": 23,
     "metadata": {},
     "output_type": "execute_result"
    }
   ],
   "source": [
    "type(nombre_articles)"
   ]
  },
  {
   "cell_type": "code",
   "execution_count": 24,
   "id": "8a692d8a",
   "metadata": {},
   "outputs": [],
   "source": [
    "nombre_article = 0"
   ]
  },
  {
   "cell_type": "code",
   "execution_count": 25,
   "id": "6fd221a6",
   "metadata": {},
   "outputs": [
    {
     "data": {
      "text/plain": [
       "100000"
      ]
     },
     "execution_count": 25,
     "metadata": {},
     "output_type": "execute_result"
    }
   ],
   "source": [
    "nombre_article + 100000"
   ]
  },
  {
   "cell_type": "code",
   "execution_count": 30,
   "id": "c1b804c9",
   "metadata": {},
   "outputs": [],
   "source": [
    "nombre_article = \"100000\""
   ]
  },
  {
   "cell_type": "code",
   "execution_count": 32,
   "id": "3f70a7bb",
   "metadata": {},
   "outputs": [
    {
     "ename": "TypeError",
     "evalue": "unsupported operand type(s) for +: 'int' and 'str'",
     "output_type": "error",
     "traceback": [
      "\u001b[0;31m---------------------------------------------------------------------------\u001b[0m",
      "\u001b[0;31mTypeError\u001b[0m                                 Traceback (most recent call last)",
      "\u001b[0;32m/tmp/ipykernel_67607/1890173340.py\u001b[0m in \u001b[0;36m<module>\u001b[0;34m\u001b[0m\n\u001b[0;32m----> 1\u001b[0;31m \u001b[0;36m100000\u001b[0m \u001b[0;34m+\u001b[0m \u001b[0mnombre_article\u001b[0m\u001b[0;34m\u001b[0m\u001b[0;34m\u001b[0m\u001b[0m\n\u001b[0m",
      "\u001b[0;31mTypeError\u001b[0m: unsupported operand type(s) for +: 'int' and 'str'"
     ]
    }
   ],
   "source": [
    "100000 + nombre_article"
   ]
  },
  {
   "cell_type": "code",
   "execution_count": 33,
   "id": "48539ef4",
   "metadata": {},
   "outputs": [
    {
     "data": {
      "text/plain": [
       "'100000'"
      ]
     },
     "execution_count": 33,
     "metadata": {},
     "output_type": "execute_result"
    }
   ],
   "source": [
    "nombre_article"
   ]
  },
  {
   "cell_type": "markdown",
   "id": "80df1a2d",
   "metadata": {},
   "source": [
    "Les booléens"
   ]
  },
  {
   "cell_type": "code",
   "execution_count": 34,
   "id": "1b51e903",
   "metadata": {},
   "outputs": [],
   "source": [
    "une_variable_binaire = True"
   ]
  },
  {
   "cell_type": "code",
   "execution_count": 35,
   "id": "6baad35e",
   "metadata": {},
   "outputs": [
    {
     "data": {
      "text/plain": [
       "bool"
      ]
     },
     "execution_count": 35,
     "metadata": {},
     "output_type": "execute_result"
    }
   ],
   "source": [
    "type(une_variable_binaire)"
   ]
  },
  {
   "cell_type": "code",
   "execution_count": 38,
   "id": "2f27cbc2",
   "metadata": {},
   "outputs": [
    {
     "name": "stdout",
     "output_type": "stream",
     "text": [
      "<class 'int'>\n"
     ]
    }
   ],
   "source": [
    "nombre_articles = 0\n",
    "print(type(nombre_articles))"
   ]
  },
  {
   "cell_type": "code",
   "execution_count": 45,
   "id": "8cdf3d13",
   "metadata": {},
   "outputs": [],
   "source": [
    "une_phrase = \"début d'une phrase\""
   ]
  },
  {
   "cell_type": "code",
   "execution_count": 49,
   "id": "ec82cc6b",
   "metadata": {},
   "outputs": [
    {
     "data": {
      "text/plain": [
       "\"DÉBUT D'UNE PHRASE\""
      ]
     },
     "execution_count": 49,
     "metadata": {},
     "output_type": "execute_result"
    }
   ],
   "source": [
    "une_phrase.upper()"
   ]
  },
  {
   "cell_type": "code",
   "execution_count": 50,
   "id": "47f08190",
   "metadata": {},
   "outputs": [
    {
     "data": {
      "text/plain": [
       "\"début d'une phrase fin de la phase\""
      ]
     },
     "execution_count": 50,
     "metadata": {},
     "output_type": "execute_result"
    }
   ],
   "source": [
    "une_phrase + \" fin de la phase\""
   ]
  },
  {
   "cell_type": "code",
   "execution_count": 51,
   "id": "a4c32f2e",
   "metadata": {},
   "outputs": [
    {
     "data": {
      "text/plain": [
       "'e'"
      ]
     },
     "execution_count": 51,
     "metadata": {},
     "output_type": "execute_result"
    }
   ],
   "source": [
    "une_phrase[10]"
   ]
  },
  {
   "cell_type": "markdown",
   "id": "8f7d44dc",
   "metadata": {},
   "source": [
    "Couper une phrase"
   ]
  },
  {
   "cell_type": "code",
   "execution_count": 54,
   "id": "1a886d0f",
   "metadata": {},
   "outputs": [
    {
     "data": {
      "text/plain": [
       "['début', \"d'une\", 'phrase']"
      ]
     },
     "execution_count": 54,
     "metadata": {},
     "output_type": "execute_result"
    }
   ],
   "source": [
    "une_phrase = \"début d'une phrase\"\n",
    "une_phrase.split(\" \")"
   ]
  },
  {
   "cell_type": "code",
   "execution_count": 55,
   "id": "f18b7f9b",
   "metadata": {},
   "outputs": [
    {
     "data": {
      "text/plain": [
       "'\\nJe suis une chaine\\nde caractères\\n'"
      ]
     },
     "execution_count": 55,
     "metadata": {},
     "output_type": "execute_result"
    }
   ],
   "source": [
    "\"\"\"\n",
    "Je suis une chaine\n",
    "de caractères\n",
    "\"\"\""
   ]
  },
  {
   "cell_type": "markdown",
   "id": "6d17bb0b",
   "metadata": {},
   "source": [
    "Chaines de caractères"
   ]
  },
  {
   "cell_type": "code",
   "execution_count": 61,
   "id": "af954bf6",
   "metadata": {},
   "outputs": [
    {
     "name": "stdout",
     "output_type": "stream",
     "text": [
      "Je ne suis qu'une chaine de caractères\n",
      "sauter une ligne\n"
     ]
    }
   ],
   "source": [
    "chaine1 = \"Je ne suis qu'une chaine de caractères\\nsauter une ligne\"\n",
    "print(chaine1)"
   ]
  },
  {
   "cell_type": "code",
   "execution_count": 58,
   "id": "3e805baa",
   "metadata": {},
   "outputs": [],
   "source": [
    "chaine2 = 'Je ne suis qu\\'une chaine de caractères'"
   ]
  },
  {
   "cell_type": "markdown",
   "id": "aecb3bb1",
   "metadata": {},
   "source": [
    "Fonctions"
   ]
  },
  {
   "cell_type": "code",
   "execution_count": 62,
   "id": "d6c6fad0",
   "metadata": {},
   "outputs": [
    {
     "name": "stdout",
     "output_type": "stream",
     "text": [
      "Un texte\n"
     ]
    }
   ],
   "source": [
    "print(\"Un texte\")"
   ]
  },
  {
   "cell_type": "code",
   "execution_count": 63,
   "id": "cba55b10",
   "metadata": {},
   "outputs": [
    {
     "data": {
      "text/plain": [
       "<function print>"
      ]
     },
     "execution_count": 63,
     "metadata": {},
     "output_type": "execute_result"
    }
   ],
   "source": [
    "print"
   ]
  },
  {
   "cell_type": "markdown",
   "id": "bc193dd4",
   "metadata": {},
   "source": [
    "Fonction len"
   ]
  },
  {
   "cell_type": "code",
   "execution_count": 65,
   "id": "f4a113fc",
   "metadata": {},
   "outputs": [
    {
     "data": {
      "text/plain": [
       "8"
      ]
     },
     "execution_count": 65,
     "metadata": {},
     "output_type": "execute_result"
    }
   ],
   "source": [
    "len(\"Ce texte\")"
   ]
  },
  {
   "cell_type": "markdown",
   "id": "e191cd4d",
   "metadata": {},
   "source": [
    "De split à une liste"
   ]
  },
  {
   "cell_type": "code",
   "execution_count": 68,
   "id": "1015bde9",
   "metadata": {},
   "outputs": [],
   "source": [
    "une_phrase = \"début d'une phrase\""
   ]
  },
  {
   "cell_type": "code",
   "execution_count": 89,
   "id": "4dd9423a",
   "metadata": {},
   "outputs": [],
   "source": [
    "mots = une_phrase.split(\" \")"
   ]
  },
  {
   "cell_type": "code",
   "execution_count": 90,
   "id": "156c6482",
   "metadata": {},
   "outputs": [
    {
     "name": "stdout",
     "output_type": "stream",
     "text": [
      "['début', \"d'une\", 'phrase']\n"
     ]
    }
   ],
   "source": [
    "print(mots)"
   ]
  },
  {
   "cell_type": "code",
   "execution_count": 91,
   "id": "0371e2ca",
   "metadata": {},
   "outputs": [
    {
     "data": {
      "text/plain": [
       "\"but d'un\""
      ]
     },
     "execution_count": 91,
     "metadata": {},
     "output_type": "execute_result"
    }
   ],
   "source": [
    "une_phrase[2:10]"
   ]
  },
  {
   "cell_type": "markdown",
   "id": "e11c11bb",
   "metadata": {},
   "source": [
    "Type d'une liste"
   ]
  },
  {
   "cell_type": "code",
   "execution_count": 93,
   "id": "21a2a7c1",
   "metadata": {},
   "outputs": [
    {
     "data": {
      "text/plain": [
       "[\"d'une\", 'phrase']"
      ]
     },
     "execution_count": 93,
     "metadata": {},
     "output_type": "execute_result"
    }
   ],
   "source": [
    "mots[1:3]"
   ]
  },
  {
   "cell_type": "code",
   "execution_count": 94,
   "id": "e8fa1f8e",
   "metadata": {},
   "outputs": [],
   "source": [
    "mots.append(\"nouvel élément\")"
   ]
  },
  {
   "cell_type": "code",
   "execution_count": 96,
   "id": "c028eb18",
   "metadata": {},
   "outputs": [
    {
     "name": "stdout",
     "output_type": "stream",
     "text": [
      "['début', \"d'une\", 'phrase', 'nouvel élément']\n"
     ]
    }
   ],
   "source": [
    "print(mots)"
   ]
  },
  {
   "cell_type": "markdown",
   "id": "7e3194dd",
   "metadata": {},
   "source": [
    "Un autre ensemble : le dictionnaire"
   ]
  },
  {
   "cell_type": "code",
   "execution_count": 97,
   "id": "278fcd6a",
   "metadata": {},
   "outputs": [],
   "source": [
    "dictionnaire = {\n",
    "    \"première entrée\":\"le langage Python\",\n",
    "    \"deuxième entrée\": \"le langage R\"\n",
    "    }"
   ]
  },
  {
   "cell_type": "code",
   "execution_count": 98,
   "id": "ca82af6d",
   "metadata": {},
   "outputs": [],
   "source": [
    "dictionnaire = {\"première entrée\":\"le langage Python\",\"deuxième entrée\": \"le langage R\"}"
   ]
  },
  {
   "cell_type": "code",
   "execution_count": 101,
   "id": "fd05641f",
   "metadata": {},
   "outputs": [
    {
     "data": {
      "text/plain": [
       "dict_keys(['première entrée', 'deuxième entrée'])"
      ]
     },
     "execution_count": 101,
     "metadata": {},
     "output_type": "execute_result"
    }
   ],
   "source": [
    "dictionnaire.keys()"
   ]
  },
  {
   "cell_type": "code",
   "execution_count": 102,
   "id": "a34481a7",
   "metadata": {},
   "outputs": [
    {
     "data": {
      "text/plain": [
       "{'première entrée': 'le langage Python', 'deuxième entrée': 'le langage R'}"
      ]
     },
     "execution_count": 102,
     "metadata": {},
     "output_type": "execute_result"
    }
   ],
   "source": [
    "dictionnaire"
   ]
  },
  {
   "cell_type": "code",
   "execution_count": 103,
   "id": "8e6cac13",
   "metadata": {},
   "outputs": [
    {
     "data": {
      "text/plain": [
       "'le langage R'"
      ]
     },
     "execution_count": 103,
     "metadata": {},
     "output_type": "execute_result"
    }
   ],
   "source": [
    "dictionnaire[\"deuxième entrée\"]"
   ]
  },
  {
   "cell_type": "code",
   "execution_count": 104,
   "id": "91e35e8c",
   "metadata": {},
   "outputs": [],
   "source": [
    "dictionnaire[\"nouvel élément\"] = \"Ceci est une nouvelle entrée\""
   ]
  },
  {
   "cell_type": "code",
   "execution_count": 105,
   "id": "0a812496",
   "metadata": {},
   "outputs": [
    {
     "data": {
      "text/plain": [
       "{'première entrée': 'le langage Python',\n",
       " 'deuxième entrée': 'le langage R',\n",
       " 'nouvel élément': 'Ceci est une nouvelle entrée'}"
      ]
     },
     "execution_count": 105,
     "metadata": {},
     "output_type": "execute_result"
    }
   ],
   "source": [
    "dictionnaire"
   ]
  },
  {
   "cell_type": "code",
   "execution_count": 108,
   "id": "8f4e4a2b",
   "metadata": {},
   "outputs": [
    {
     "name": "stdout",
     "output_type": "stream",
     "text": [
      "{'élément 1': 'Python'}\n"
     ]
    }
   ],
   "source": [
    "nouveau_dict = {}\n",
    "nouveau_dict[\"élément 1\"]=\"Python\" #création d'une nouvelle clé:valeur\n",
    "print(nouveau_dict)"
   ]
  },
  {
   "cell_type": "code",
   "execution_count": 112,
   "id": "bf536f8e",
   "metadata": {},
   "outputs": [],
   "source": [
    "structure_complexe = {\"tableau 1\":[19, 32, 12],\n",
    "                       \"tableau 2\" : [\"chat\",\"chien\"]}"
   ]
  },
  {
   "cell_type": "code",
   "execution_count": 110,
   "id": "53b377f3",
   "metadata": {},
   "outputs": [
    {
     "data": {
      "text/plain": [
       "dict"
      ]
     },
     "execution_count": 110,
     "metadata": {},
     "output_type": "execute_result"
    }
   ],
   "source": [
    "type(structure_complexe)"
   ]
  },
  {
   "cell_type": "code",
   "execution_count": 114,
   "id": "3e1db001",
   "metadata": {},
   "outputs": [
    {
     "data": {
      "text/plain": [
       "[19, 32, 12]"
      ]
     },
     "execution_count": 114,
     "metadata": {},
     "output_type": "execute_result"
    }
   ],
   "source": [
    "structure_complexe[\"tableau 1\"]"
   ]
  },
  {
   "cell_type": "code",
   "execution_count": 115,
   "id": "b2257cc0",
   "metadata": {},
   "outputs": [],
   "source": [
    "objet_vide = None"
   ]
  },
  {
   "cell_type": "markdown",
   "id": "9972dce2",
   "metadata": {},
   "source": [
    "#### Les conditions if/else"
   ]
  },
  {
   "cell_type": "markdown",
   "id": "632474c4",
   "metadata": {},
   "source": [
    "```` python\n",
    "if CONDITION VRAIE:\n",
    "    Alors exécuter\n",
    "else:\n",
    "    Sinon exécuter...\n",
    "````"
   ]
  },
  {
   "cell_type": "code",
   "execution_count": 118,
   "id": "87327822",
   "metadata": {},
   "outputs": [],
   "source": [
    "verite=False\n",
    "\n",
    "if verite:\n",
    "    print(\"Vraie\")"
   ]
  },
  {
   "cell_type": "code",
   "execution_count": 119,
   "id": "7169e5f4",
   "metadata": {},
   "outputs": [
    {
     "name": "stdout",
     "output_type": "stream",
     "text": [
      "Verité est définie\n"
     ]
    }
   ],
   "source": [
    "if verite != None:\n",
    "    print(\"Verité est définie\")"
   ]
  },
  {
   "cell_type": "code",
   "execution_count": 121,
   "id": "e57f7ece",
   "metadata": {},
   "outputs": [
    {
     "name": "stdout",
     "output_type": "stream",
     "text": [
      "0\n"
     ]
    }
   ],
   "source": [
    "nombre_article = \"0\"\n",
    "if type(nombre_article) == int:\n",
    "    nombre_article = nombre_article + 1\n",
    "print(nombre_article)"
   ]
  },
  {
   "cell_type": "markdown",
   "id": "e0c8ca5e",
   "metadata": {},
   "source": [
    "#### Boucle for"
   ]
  },
  {
   "cell_type": "code",
   "execution_count": 123,
   "id": "8553130d",
   "metadata": {},
   "outputs": [
    {
     "data": {
      "text/plain": [
       "10"
      ]
     },
     "execution_count": 123,
     "metadata": {},
     "output_type": "execute_result"
    }
   ],
   "source": [
    "len(titres)"
   ]
  },
  {
   "cell_type": "code",
   "execution_count": null,
   "id": "b8fbb07f",
   "metadata": {},
   "outputs": [],
   "source": [
    "for i in titres: # pour chaque élément de la liste titres\n",
    "    if motcle in i: # vérifie si le mot clés est présent dans le titre\n",
    "        print(i) # si oui, afficher le titre\n",
    "        nombre_articles = nombre_articles + 1 #et incrémenter (augmenter de 1) le compteur"
   ]
  },
  {
   "cell_type": "markdown",
   "id": "40070279",
   "metadata": {},
   "source": [
    "Lecture/écriture dans un fichier : le bloc with et la fonction open"
   ]
  },
  {
   "cell_type": "code",
   "execution_count": 124,
   "id": "8cd36df2",
   "metadata": {},
   "outputs": [],
   "source": [
    "ligne = \"Proportion d'articles contenant le terme dans le titre : {} %\".format(round(proportion,1))\n",
    "\n",
    "with open(\"resultats.txt\",\"w\") as f:\n",
    "    f.write(ligne)"
   ]
  },
  {
   "cell_type": "code",
   "execution_count": null,
   "id": "f3203959",
   "metadata": {},
   "outputs": [],
   "source": [
    "# -*- coding: utf-8 -*-\n",
    "\n",
    "__author__ = \"Émilien Schultz\" # définir une variable str\n",
    "nombre_articles = 0 # définir une variable int\n",
    "motcle = \"Raoult\" # définir une variable str\n",
    "titres = [' Bolsonaro sur le banc des accusés après les ravages du Covid à Manaus ',\n",
    " \" Gilbert Deray Bilan d'étape du virus, un an après La découverte de vaccins en un temps record est un incontestable succès médico-scientifique, mais nos échecs économiques et sociétaux dans la lutte contre le Covid-19 sont évidents, souligne le médecin \",\n",
    " \" Information et pandémie Les médias traitent-ils bien les sciences ? \",\n",
    " ' Par Nicolas Berrod, Ludwig Gallet et Paméla ',\n",
    " ' Covid-19 : le docu «Hold-up» bat des records de défiance ',\n",
    " \" A Marseille, la facture n'est pas passée \",\n",
    " ' Pass sanitaire|« On y mettra fin à la minute où nous le pourrons » ',\n",
    " ' Les covidosceptiques veulent faire avaler leurs pilules ',\n",
    " ' Didier Raoult, le postmodernisme en étendard ',\n",
    " \" Crise sanitaire Le professeur Raoult persiste dans ses certitudes Visé par une plainte, le directeur de l'institut Méditerranée Infection prescrit toujours l'hydroxychloroquine \"]\n",
    "nombre_total_articles = len(titres) #définir variable\n",
    "\n",
    "if nombre_total_articles > 0: # vérifier que la liste n'est pas vide\n",
    "    for i in titres: # pour chaque élément de la liste titres\n",
    "        if motcle in i: # vérifie si le mot clés est présent dans le titre\n",
    "            print(i) # si oui, afficher le titre\n",
    "            nombre_articles = nombre_articles + 1 #et incrémenter (augmenter de 1) le compteur\n",
    "else: # cas où la liste est vide\n",
    "    print(\"La liste est vide\")\n",
    "    \n",
    "proportion = 100*nombre_articles/nombre_total_articles #calcul d'un pourcentage\n",
    "ligne \"Proportion d'articles contenant le terme dans le titre : {} %\".format(round(proportion,1))\n",
    "\n",
    "# Opération de sortie\n",
    "print(ligne) # écran\n",
    "with open(\"resultats.txt\",\"w\") as f: #fichier\n",
    "    f.write(ligne)"
   ]
  }
 ],
 "metadata": {
  "kernelspec": {
   "display_name": "Python 3 (ipykernel)",
   "language": "python",
   "name": "python3"
  },
  "language_info": {
   "codemirror_mode": {
    "name": "ipython",
    "version": 3
   },
   "file_extension": ".py",
   "mimetype": "text/x-python",
   "name": "python",
   "nbconvert_exporter": "python",
   "pygments_lexer": "ipython3",
   "version": "3.9.7"
  }
 },
 "nbformat": 4,
 "nbformat_minor": 5
}
