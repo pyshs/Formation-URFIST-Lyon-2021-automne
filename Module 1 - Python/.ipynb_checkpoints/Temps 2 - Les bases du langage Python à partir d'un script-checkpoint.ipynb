{
 "cells": [
  {
   "cell_type": "markdown",
   "metadata": {},
   "source": [
    "# Les bases du langage Python\n",
    "\n",
    "- Prendre un script\n",
    "- L'exécuter (Console, Jupyter, etc.)\n",
    "- Le décortiquer"
   ]
  },
  {
   "cell_type": "code",
   "execution_count": 1,
   "metadata": {},
   "outputs": [
    {
     "name": "stdout",
     "output_type": "stream",
     "text": [
      " Didier Raoult, le postmodernisme en étendard \n",
      " Crise sanitaire Le professeur Raoult persiste dans ses certitudes Visé par une plainte, le directeur de l'institut Méditerranée Infection prescrit toujours l'hydroxychloroquine \n",
      "Proportion d'articles contenant le terme dans le titre : 20.0 %\n"
     ]
    }
   ],
   "source": [
    "nombre_articles = 0\n",
    "motcle = \"Raoult\"\n",
    "titres = [' Bolsonaro sur le banc des accusés après les ravages du Covid à Manaus ',\n",
    " \" Gilbert Deray Bilan d'étape du virus, un an après La découverte de vaccins en un temps record est un incontestable succès médico-scientifique, mais nos échecs économiques et sociétaux dans la lutte contre le Covid-19 sont évidents, souligne le médecin \",\n",
    " ' Information et pandémie Les médias traitent-ils bien les sciences ? ',\n",
    " ' Par Nicolas Berrod, Ludwig Gallet et Paméla ',\n",
    " ' Covid-19 : le docu «Hold-up» bat des records de défiance ',\n",
    " \" A Marseille, la facture n'est pas passée \",\n",
    " ' Pass sanitaire|« On y mettra fin à la minute où nous le pourrons » ',\n",
    " ' Les covidosceptiques veulent faire avaler leurs pilules ',\n",
    " ' Didier Raoult, le postmodernisme en étendard ',\n",
    " \" Crise sanitaire Le professeur Raoult persiste dans ses certitudes Visé par une plainte, le directeur de l'institut Méditerranée Infection prescrit toujours l'hydroxychloroquine \"]\n",
    "nombre_total_articles = len(titres)\n",
    "\n",
    "if nombre_total_articles > 0:\n",
    "    for i in titres:\n",
    "        if motcle in i:\n",
    "            print(i)\n",
    "            nombre_articles+=1\n",
    "else:\n",
    "    print(\"La liste est vide\")\n",
    "    \n",
    "proportion = 100*nombre_articles/nombre_total_articles\n",
    "print(\"Proportion d'articles contenant le terme dans le titre : {} %\".format(round(proportion,1)))"
   ]
  },
  {
   "cell_type": "markdown",
   "metadata": {},
   "source": [
    "## Variables\n",
    "\n",
    "- définir, nom, erreurs\n",
    " - des mots clés définis : https://docs.python.org/2/reference/lexical_analysis.html?highlight=keywords#keywords\n",
    "- manipuler\n",
    "- différents types\n",
    " - chaînes de caractères\n",
    " - listes\n",
    " - dictionnaires\n",
    " - tuples\n",
    " - booléens\n",
    "- variable et objet : des propriétés et des méthodes\n",
    "- les commentaires\n",
    "- les fonctions prédéfinies (len, type, print, str, etc.) + des modules déjà chargés\n",
    "- utiliser l'aide\n",
    "- les blocs qui organisent le script :\n",
    " - condition et if (mot clé in, opérateurs and, etc.)\n",
    " - boucles\n",
    " - définir une fonction\n",
    "- écrire dans un fichier : bloc with\n",
    " - écrire le résultat du script"
   ]
  }
 ],
 "metadata": {
  "kernelspec": {
   "display_name": "Python 3",
   "language": "python",
   "name": "python3"
  },
  "language_info": {
   "codemirror_mode": {
    "name": "ipython",
    "version": 3
   },
   "file_extension": ".py",
   "mimetype": "text/x-python",
   "name": "python",
   "nbconvert_exporter": "python",
   "pygments_lexer": "ipython3",
   "version": "3.7.7"
  }
 },
 "nbformat": 4,
 "nbformat_minor": 4
}
