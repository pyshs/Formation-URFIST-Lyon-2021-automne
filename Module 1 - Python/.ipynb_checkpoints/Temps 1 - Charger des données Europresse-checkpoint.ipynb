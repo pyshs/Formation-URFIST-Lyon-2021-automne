{
 "cells": [
  {
   "cell_type": "markdown",
   "metadata": {},
   "source": [
    "#### Récupération d'un jeu de données extérieures, ici sur la plateforme Europresse\n",
    "\n",
    "https://paris-sorbonne.libguides.com/europresse_version-classique\n",
    "\n",
    "Mot-clé : McFly, sur un an"
   ]
  },
  {
   "cell_type": "markdown",
   "metadata": {},
   "source": [
    "#### Chargement de bibliothèques"
   ]
  },
  {
   "cell_type": "code",
   "execution_count": 1,
   "metadata": {},
   "outputs": [],
   "source": [
    "import pandas as pd\n",
    "import bs4 as bs\n",
    "import regex as re\n",
    "import datetime\n",
    "import os\n",
    "import matplotlib.pyplot as plt\n",
    "%matplotlib inline"
   ]
  },
  {
   "cell_type": "markdown",
   "metadata": {},
   "source": [
    "#### Définition de fonctions"
   ]
  },
  {
   "cell_type": "code",
   "execution_count": 2,
   "metadata": {},
   "outputs": [],
   "source": [
    "def extract(file): \n",
    "    \"\"\"\n",
    "    Extraction de données d'une page Europesse\n",
    "    \"\"\"\n",
    "    corpus_html = bs.BeautifulSoup(open(file, encoding=\"utf8\"),\"lxml\")    \n",
    "    corpus = [] #tableau que l'on va remplir avec les données\n",
    "    for i in corpus_html.find_all(\"article\"):\n",
    "        \n",
    "        #on regarde s'il y a un titre dans l'article\n",
    "        try:\n",
    "            titre = i.find(\"div\",{\"class\":\"titreArticle\"}).text \n",
    "        except:\n",
    "            titre = None #sinon on renvoie rien\n",
    "            \n",
    "        #Pareil pour la date/header\n",
    "        try:\n",
    "            header = i.find(\"span\",{\"class\":\"DocHeader\"}).text\n",
    "        except:\n",
    "            header = None\n",
    "        \n",
    "        #Le nom de la publicatoin\n",
    "        try:\n",
    "            publication = i.find(\"span\",{\"class\":\"DocPublicationName\"}).text\n",
    "        except:\n",
    "            publication = None\n",
    "         \n",
    "        #le contenu\n",
    "        try:\n",
    "            text = i.find(\"div\",{\"class\":\"DocText clearfix\"}).text\n",
    "        except:\n",
    "            text = None\n",
    "            \n",
    "        #le contenu\n",
    "        try:\n",
    "            auteur = i.find(\"div\",{\"class\":\"docAuthors\"}).text\n",
    "        except:\n",
    "            auteur = None\n",
    "            \n",
    "            \n",
    "            \n",
    "        #On ajoute ces éléments au corpus\n",
    "        corpus.append([header,titre,publication,text,auteur])\n",
    "        \n",
    "    return corpus #On renvoie les informations\n",
    "\n",
    "\n",
    "def reco_date(x):\n",
    "    \"\"\"\n",
    "    Recoder la date telle que présente dans un fichier europresse\n",
    "    \"\"\"\n",
    "    mois = {\"janvier\":\"01\",\"février\":\"02\",\"mars\":\"03\",\n",
    "            \"avril\":\"04\",\"mai\":\"05\",\"juin\":\"06\",\"juillet\":\"07\",\n",
    "            \"août\":\"08\",\"septembre\":\"09\",\"octobre\":\"10\",\"novembre\":\"11\",\"décembre\":\"12\"}\n",
    "    \n",
    "    t = re.findall(\"\\w+ \\w+ [0-9]{4}\",x)\n",
    "    \n",
    "    if len(t) <1:\n",
    "        return None\n",
    "\n",
    "    t = t[0]\n",
    "    \n",
    "    for i in mois:\n",
    "        if i in t:\n",
    "            t = t.replace(i,\"/%s/\"%mois[i]).replace(\" \",\"\")\n",
    "\n",
    "    t = datetime.datetime.strptime(t,\"%d/%m/%Y\")\n",
    "            \n",
    "    return t"
   ]
  },
  {
   "cell_type": "markdown",
   "metadata": {},
   "source": [
    "#### Chargement des données et mise en forme"
   ]
  },
  {
   "cell_type": "code",
   "execution_count": 3,
   "metadata": {},
   "outputs": [
    {
     "data": {
      "text/html": [
       "<div>\n",
       "<style scoped>\n",
       "    .dataframe tbody tr th:only-of-type {\n",
       "        vertical-align: middle;\n",
       "    }\n",
       "\n",
       "    .dataframe tbody tr th {\n",
       "        vertical-align: top;\n",
       "    }\n",
       "\n",
       "    .dataframe thead th {\n",
       "        text-align: right;\n",
       "    }\n",
       "</style>\n",
       "<table border=\"1\" class=\"dataframe\">\n",
       "  <thead>\n",
       "    <tr style=\"text-align: right;\">\n",
       "      <th></th>\n",
       "      <th>Date</th>\n",
       "      <th>Titre</th>\n",
       "      <th>Journal</th>\n",
       "      <th>Contenu</th>\n",
       "      <th>Auteur</th>\n",
       "    </tr>\n",
       "    <tr>\n",
       "      <th>Date_reco</th>\n",
       "      <th></th>\n",
       "      <th></th>\n",
       "      <th></th>\n",
       "      <th></th>\n",
       "      <th></th>\n",
       "    </tr>\n",
       "  </thead>\n",
       "  <tbody>\n",
       "    <tr>\n",
       "      <th>2021-02-25</th>\n",
       "      <td>_Loisirs,  jeudi 25 février 2021 841 mots, p....</td>\n",
       "      <td>C'est l'histoire de deux potes... Les youtube...</td>\n",
       "      <td>Aujourd'hui en France  Edition Principale</td>\n",
       "      <td>Par Grégory Plouviez   Pas d'interview pour ...</td>\n",
       "      <td>None</td>\n",
       "    </tr>\n",
       "    <tr>\n",
       "      <th>2021-02-22</th>\n",
       "      <td>_Loisirs,  lundi 22 février 2021 620 mots, p....</td>\n",
       "      <td>McFly et Carlito aux portes de l'Elysée Si la...</td>\n",
       "      <td>Aujourd'hui en France  Edition Principale</td>\n",
       "      <td>Par Émeline Collet   Une « chanson toute sim...</td>\n",
       "      <td>None</td>\n",
       "    </tr>\n",
       "    <tr>\n",
       "      <th>2021-02-23</th>\n",
       "      <td>_Politique,  mardi 23 février 2021 300 mots, ...</td>\n",
       "      <td>Par Rosalie Lucas  Mcfly et Carlito, ministres</td>\n",
       "      <td>Aujourd'hui en France  Edition Principale</td>\n",
       "      <td>Par Rosalie Lucas   Mcfly et Carlito, minist...</td>\n",
       "      <td>None</td>\n",
       "    </tr>\n",
       "    <tr>\n",
       "      <th>2021-05-24</th>\n",
       "      <td>_Politique,  lundi 24 mai 2021 690 mots, p. A...</td>\n",
       "      <td>Macron contre  McFly et Carlito : match nul e...</td>\n",
       "      <td>Aujourd'hui en France  Edition Principale</td>\n",
       "      <td>Yves Jaeglé   C'est de la communication poli...</td>\n",
       "      <td>None</td>\n",
       "    </tr>\n",
       "    <tr>\n",
       "      <th>2021-05-24</th>\n",
       "      <td>Le Figaro,  lundi 24 mai 2021 632 mots, p. 4</td>\n",
       "      <td>Devant  McFly et Carlito, Macron veut séduire...</td>\n",
       "      <td>Le Figaro, no. 23873</td>\n",
       "      <td>ÉLYSÉE  Promesse tenue. Emmanuel Macron a ac...</td>\n",
       "      <td>Lepelletier, Pierre</td>\n",
       "    </tr>\n",
       "    <tr>\n",
       "      <th>...</th>\n",
       "      <td>...</td>\n",
       "      <td>...</td>\n",
       "      <td>...</td>\n",
       "      <td>...</td>\n",
       "      <td>...</td>\n",
       "    </tr>\n",
       "    <tr>\n",
       "      <th>2021-02-05</th>\n",
       "      <td>Carnet,  vendredi 5 février 2021 569 mots, p....</td>\n",
       "      <td>Canelle Chokron fait banque à part</td>\n",
       "      <td>Les Echos, no. 23384</td>\n",
       "      <td>Dans leur vidéo de ce dimanche, McFly et Car...</td>\n",
       "      <td>JULIE LE BOLZER</td>\n",
       "    </tr>\n",
       "    <tr>\n",
       "      <th>2021-03-09</th>\n",
       "      <td>Le Figaro,  mardi 9 mars 2021 137 mots, p. 1</td>\n",
       "      <td>Réseaux sociaux, influenceurs... la nouvelle ...</td>\n",
       "      <td>Le Figaro, no. 23809</td>\n",
       "      <td>L'épidémie de Covid n'a fait qu'accentuer le...</td>\n",
       "      <td>None</td>\n",
       "    </tr>\n",
       "    <tr>\n",
       "      <th>2021-04-07</th>\n",
       "      <td>Finance &amp; Marchés,  mercredi 7 avril 2021 524...</td>\n",
       "      <td>Deuxième levée de fonds en un an pour la néob...</td>\n",
       "      <td>Les Echos, no. 23426</td>\n",
       "      <td>La promesse Vybe continue de séduire les inv...</td>\n",
       "      <td>ROMAIN GUEUGNEAU</td>\n",
       "    </tr>\n",
       "    <tr>\n",
       "      <th>2020-09-03</th>\n",
       "      <td>Le Figaro et vous,  jeudi 3 septembre 2020 91...</td>\n",
       "      <td>La vie de Pasha, une icône signée Cartier sag...</td>\n",
       "      <td>Le Figaro, no. 23653</td>\n",
       "      <td>Retour vers le futur, en 1985, de préférenc...</td>\n",
       "      <td>Hirel, Judikael</td>\n",
       "    </tr>\n",
       "    <tr>\n",
       "      <th>2021-05-06</th>\n",
       "      <td>_Loisirs,  jeudi 6 mai 2021 886 mots, p. AUJM...</td>\n",
       "      <td>« Oser faire rire est de plus en plus en diff...</td>\n",
       "      <td>Aujourd'hui en France  Edition Principale</td>\n",
       "      <td>Propos recueillis par Grégory Plouviez   Dan...</td>\n",
       "      <td>None</td>\n",
       "    </tr>\n",
       "  </tbody>\n",
       "</table>\n",
       "<p>70 rows × 5 columns</p>\n",
       "</div>"
      ],
      "text/plain": [
       "                                                         Date  \\\n",
       "Date_reco                                                       \n",
       "2021-02-25   _Loisirs,  jeudi 25 février 2021 841 mots, p....   \n",
       "2021-02-22   _Loisirs,  lundi 22 février 2021 620 mots, p....   \n",
       "2021-02-23   _Politique,  mardi 23 février 2021 300 mots, ...   \n",
       "2021-05-24   _Politique,  lundi 24 mai 2021 690 mots, p. A...   \n",
       "2021-05-24      Le Figaro,  lundi 24 mai 2021 632 mots, p. 4    \n",
       "...                                                       ...   \n",
       "2021-02-05   Carnet,  vendredi 5 février 2021 569 mots, p....   \n",
       "2021-03-09      Le Figaro,  mardi 9 mars 2021 137 mots, p. 1    \n",
       "2021-04-07   Finance & Marchés,  mercredi 7 avril 2021 524...   \n",
       "2020-09-03   Le Figaro et vous,  jeudi 3 septembre 2020 91...   \n",
       "2021-05-06   _Loisirs,  jeudi 6 mai 2021 886 mots, p. AUJM...   \n",
       "\n",
       "                                                        Titre  \\\n",
       "Date_reco                                                       \n",
       "2021-02-25   C'est l'histoire de deux potes... Les youtube...   \n",
       "2021-02-22   McFly et Carlito aux portes de l'Elysée Si la...   \n",
       "2021-02-23    Par Rosalie Lucas  Mcfly et Carlito, ministres    \n",
       "2021-05-24   Macron contre  McFly et Carlito : match nul e...   \n",
       "2021-05-24   Devant  McFly et Carlito, Macron veut séduire...   \n",
       "...                                                       ...   \n",
       "2021-02-05                Canelle Chokron fait banque à part    \n",
       "2021-03-09   Réseaux sociaux, influenceurs... la nouvelle ...   \n",
       "2021-04-07   Deuxième levée de fonds en un an pour la néob...   \n",
       "2020-09-03   La vie de Pasha, une icône signée Cartier sag...   \n",
       "2021-05-06   « Oser faire rire est de plus en plus en diff...   \n",
       "\n",
       "                                                Journal  \\\n",
       "Date_reco                                                 \n",
       "2021-02-25   Aujourd'hui en France  Edition Principale    \n",
       "2021-02-22   Aujourd'hui en France  Edition Principale    \n",
       "2021-02-23   Aujourd'hui en France  Edition Principale    \n",
       "2021-05-24   Aujourd'hui en France  Edition Principale    \n",
       "2021-05-24                      Le Figaro, no. 23873      \n",
       "...                                                 ...   \n",
       "2021-02-05                      Les Echos, no. 23384      \n",
       "2021-03-09                      Le Figaro, no. 23809      \n",
       "2021-04-07                      Les Echos, no. 23426      \n",
       "2020-09-03                      Le Figaro, no. 23653      \n",
       "2021-05-06   Aujourd'hui en France  Edition Principale    \n",
       "\n",
       "                                                      Contenu  \\\n",
       "Date_reco                                                       \n",
       "2021-02-25    Par Grégory Plouviez   Pas d'interview pour ...   \n",
       "2021-02-22    Par Émeline Collet   Une « chanson toute sim...   \n",
       "2021-02-23    Par Rosalie Lucas   Mcfly et Carlito, minist...   \n",
       "2021-05-24    Yves Jaeglé   C'est de la communication poli...   \n",
       "2021-05-24    ÉLYSÉE  Promesse tenue. Emmanuel Macron a ac...   \n",
       "...                                                       ...   \n",
       "2021-02-05    Dans leur vidéo de ce dimanche, McFly et Car...   \n",
       "2021-03-09    L'épidémie de Covid n'a fait qu'accentuer le...   \n",
       "2021-04-07    La promesse Vybe continue de séduire les inv...   \n",
       "2020-09-03     Retour vers le futur, en 1985, de préférenc...   \n",
       "2021-05-06    Propos recueillis par Grégory Plouviez   Dan...   \n",
       "\n",
       "                         Auteur  \n",
       "Date_reco                        \n",
       "2021-02-25                 None  \n",
       "2021-02-22                 None  \n",
       "2021-02-23                 None  \n",
       "2021-05-24                 None  \n",
       "2021-05-24  Lepelletier, Pierre  \n",
       "...                         ...  \n",
       "2021-02-05      JULIE LE BOLZER  \n",
       "2021-03-09                 None  \n",
       "2021-04-07     ROMAIN GUEUGNEAU  \n",
       "2020-09-03      Hirel, Judikael  \n",
       "2021-05-06                 None  \n",
       "\n",
       "[70 rows x 5 columns]"
      ]
     },
     "execution_count": 3,
     "metadata": {},
     "output_type": "execute_result"
    }
   ],
   "source": [
    "corpus = extract(\"./Data/biblioeuropresse20210530102955.HTML\")\n",
    "corpus = pd.DataFrame(corpus)\n",
    "corpus.columns = [\"Date\",\"Titre\",\"Journal\",\"Contenu\",\"Auteur\"]\n",
    "corpus[\"Date_reco\"] = corpus[\"Date\"].apply(reco_date)\n",
    "corpus[\"Date_reco\"] = pd.to_datetime(corpus[\"Date_reco\"])\n",
    "corpus = corpus.set_index(\"Date_reco\")\n",
    "corpus"
   ]
  },
  {
   "cell_type": "markdown",
   "metadata": {},
   "source": [
    "#### Sauvegarder"
   ]
  },
  {
   "cell_type": "code",
   "execution_count": 5,
   "metadata": {},
   "outputs": [],
   "source": [
    "corpus.to_csv(\"Data/Corpus.csv\")"
   ]
  },
  {
   "cell_type": "markdown",
   "metadata": {},
   "source": [
    "#### Analyser"
   ]
  },
  {
   "cell_type": "code",
   "execution_count": 12,
   "metadata": {},
   "outputs": [
    {
     "data": {
      "text/plain": [
       "<matplotlib.axes._subplots.AxesSubplot at 0x11d628050>"
      ]
     },
     "execution_count": 12,
     "metadata": {},
     "output_type": "execute_result"
    },
    {
     "data": {
      "image/png": "[encoded data removed]",
      "text/plain": [
       "<Figure size 432x288 with 1 Axes>"
      ]
     },
     "metadata": {
      "needs_background": "light"
     },
     "output_type": "display_data"
    }
   ],
   "source": [
    "corpus[\"Titre\"].resample(\"d\").count().plot()"
   ]
  },
  {
   "cell_type": "markdown",
   "metadata": {},
   "source": [
    "## Script pour compter les titres qui mentionnent un mot clé\n",
    "\n",
    "Disponible aussi ici : https://github.com/pyshs/Formation-urfist"
   ]
  },
  {
   "cell_type": "code",
   "execution_count": 16,
   "metadata": {},
   "outputs": [
    {
     "name": "stdout",
     "output_type": "stream",
     "text": [
      " C'est l'histoire de deux potes... Les youtubeurs  McFly et Carlito vont bientôt tourner à l'Elysée une vidéo avec Emmanuel Macron, à la suite d'un pari gagné avec le chef de l'Etat. Portrait de ces deux rois du Web. \n",
      " Macron contre  McFly et Carlito : match nul et deux gagnants Les deux youtubeurs à succès ont mis en ligne hier matin la vidéo de leur concours d'anecdotes avec le président de la République. Un coup de com déjà vu par 6,7 millions de personnes. \n",
      " Devant  McFly et Carlito, Macron veut séduire les jeunes Dans la vidéo postée dimanche, il s'engage à mettre une photo des deux youtubeurs sur son bureau lors d'une prochaine prise de parole. \n",
      "Proportion d'articles contenant le terme dans le titre : 60.0 %\n"
     ]
    }
   ],
   "source": [
    "nombre_articles = 0\n",
    "motcle = \"Macron\"\n",
    "titres = [\" C'est l'histoire de deux potes... Les youtubeurs  McFly et Carlito vont bientôt tourner à l'Elysée une vidéo avec Emmanuel Macron, à la suite d'un pari gagné avec le chef de l'Etat. Portrait de ces deux rois du Web. \",\n",
    " \" McFly et Carlito aux portes de l'Elysée Si la vidéo des deux youtubeurs sur les gestes barrière atteint 10 millions de vues, le chef de l'Etat les recevra. Et c'est bien parti. \",\n",
    " ' Par Rosalie Lucas  Mcfly et Carlito, ministres ',\n",
    " \" Macron contre  McFly et Carlito : match nul et deux gagnants Les deux youtubeurs à succès ont mis en ligne hier matin la vidéo de leur concours d'anecdotes avec le président de la République. Un coup de com déjà vu par 6,7 millions de personnes. \",\n",
    " \" Devant  McFly et Carlito, Macron veut séduire les jeunes Dans la vidéo postée dimanche, il s'engage à mettre une photo des deux youtubeurs sur son bureau lors d'une prochaine prise de parole. \"]\n",
    "nombre_total_articles = len(titres)\n",
    "\n",
    "if nombre_total_articles > 0:\n",
    "    for i in titres:\n",
    "        if motcle in i:\n",
    "            print(i)\n",
    "            nombre_articles+=1\n",
    "else:\n",
    "    print(\"La liste est vide\")\n",
    "    \n",
    "proportion = 100*nombre_articles/nombre_total_articles\n",
    "print(\"Proportion d'articles contenant le terme dans le titre : {} %\".format(round(proportion,1)))"
   ]
  }
 ],
 "metadata": {
  "kernelspec": {
   "display_name": "Python 3",
   "language": "python",
   "name": "python3"
  },
  "language_info": {
   "codemirror_mode": {
    "name": "ipython",
    "version": 3
   },
   "file_extension": ".py",
   "mimetype": "text/x-python",
   "name": "python",
   "nbconvert_exporter": "python",
   "pygments_lexer": "ipython3",
   "version": "3.7.10"
  }
 },
 "nbformat": 4,
 "nbformat_minor": 4
}
